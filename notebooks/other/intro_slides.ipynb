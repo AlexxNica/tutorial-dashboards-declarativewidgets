{
 "cells": [
  {
   "cell_type": "markdown",
   "metadata": {
    "extensions": {
     "jupyter_dashboards": {
      "version": 1,
      "views": {
       "grid_default": {
        "hidden": true
       },
       "report_default": {}
      }
     }
    },
    "slideshow": {
     "slide_type": "slide"
    }
   },
   "source": [
    "# Turning Jupyter Notebooks into Data Applications\n",
    "\n",
    "Using the new Jupyter Dashboard and Declarative Widget projects\n",
    "\n",
    "----\n",
    "\n",
    "<p style=\"color: #777\">\n",
    "Gino Bustelo, Justin Tyberg, Peter Parente <br />\n",
    "September 14, 2016\n",
    "</p>"
   ]
  },
  {
   "cell_type": "markdown",
   "metadata": {
    "slideshow": {
     "slide_type": "slide"
    }
   },
   "source": [
    "# Welcome!\n",
    "\n",
    "---\n",
    "\n",
    "* We are maintainers of the Jupyter dashboard and declarative widget projects.\n",
    "* Today, we're going to show you how to use them."
   ]
  },
  {
   "cell_type": "markdown",
   "metadata": {
    "slideshow": {
     "slide_type": "slide"
    }
   },
   "source": [
    "# Problem\n",
    "\n",
    "---\n",
    "\n",
    "* Alice is a Jupyter Notebook user. \n",
    "* Alice creates plots and charts in a notebook. \n",
    "* Now Alice needs to share her work as a dynamic dashboard. \n",
    "* Today, Alice must leave the notebook and build a separate web app."
   ]
  },
  {
   "cell_type": "markdown",
   "metadata": {
    "slideshow": {
     "slide_type": "slide"
    }
   },
   "source": [
    "# Solution\n",
    "\n",
    "---\n",
    "\n",
    "The Jupyter dashboard and declarative widget projects help Alice to:\n",
    "\n",
    "* Pull interactive web component widgets into a notebook\n",
    "* Arrange widgets in a grid- or report-like layout\n",
    "* Bundle notebooks and widgets for deployment as dashboards\n",
    "* Serve notebook-defined dashboards as standalone web apps"
   ]
  },
  {
   "cell_type": "markdown",
   "metadata": {
    "slideshow": {
     "slide_type": "slide"
    }
   },
   "source": [
    "# Workflow\n",
    "\n",
    "---\n",
    "\n",
    "![Jupyter dashboards workflow](https://raw.githubusercontent.com/wiki/jupyter-incubator/dashboards/images/workflow.png)"
   ]
  },
  {
   "cell_type": "markdown",
   "metadata": {
    "slideshow": {
     "slide_type": "slide"
    }
   },
   "source": [
    "# Value\n",
    "\n",
    "---\n",
    "\n",
    "Jupyter Dashboards facilitate the transition from research and exploration in notebooks to the deployment of just-good-enough web applications for non-notebook users.\n",
    "\n",
    "![CRISP-DM with respect to notebooks](https://raw.githubusercontent.com/wiki/jupyter-incubator/dashboards/images/methodology.png)\n"
   ]
  },
  {
   "cell_type": "markdown",
   "metadata": {
    "slideshow": {
     "slide_type": "slide"
    }
   },
   "source": [
    "# What We're Going to Build Today\n",
    "\n",
    "---\n",
    "\n",
    "<p>\n",
    "<center>\n",
    "<video preload=\"auto\" style=\"border: 1px solid #eee\" controls=\"\" height=\"500\" src=\"//dl.dropboxusercontent.com/u/264241/health-inspections-complete.webm\"></video>\n",
    "</center>\n",
    "</p>"
   ]
  },
  {
   "cell_type": "markdown",
   "metadata": {
    "slideshow": {
     "slide_type": "slide"
    }
   },
   "source": [
    "# How We're Going to Do It\n",
    "\n",
    "---\n",
    "\n",
    "1. Get a notebook + dashboard server in the cloud\n",
    "2. Understand the health inspection data\n",
    "3. Wash, rinse and repeat on:\n",
    "    1. Run initial notebook, preview dashboard, deploy dashboard\n",
    "    2. Add map widget to notebook, preview dashboard, deploy dashboard\n",
    "    3. Add filter widget, preview, deploy\n",
    "    4. Add bar chart, preview, deploy\n",
    "4. Take a hard-earned break\n",
    "5. Add inspection comments widget, preview, deploy\n",
    "6. Pair-up to add something new\n",
    "7. Regroup and present"
   ]
  }
 ],
 "metadata": {
  "celltoolbar": "Slideshow",
  "extensions": {
   "jupyter_dashboards": {
    "activeView": "grid_default",
    "version": 1,
    "views": {
     "grid_default": {
      "cellMargin": 10,
      "defaultCellHeight": 20,
      "maxColumns": 12,
      "name": "grid",
      "type": "grid"
     },
     "report_default": {
      "name": "report",
      "type": "report"
     }
    }
   }
  },
  "kernelspec": {
   "display_name": "Python 2",
   "language": "python",
   "name": "python2"
  },
  "language_info": {
   "codemirror_mode": {
    "name": "ipython",
    "version": 2
   },
   "file_extension": ".py",
   "mimetype": "text/x-python",
   "name": "python",
   "nbconvert_exporter": "python",
   "pygments_lexer": "ipython2",
   "version": "2.7.11"
  },
  "widgets": {
   "state": {},
   "version": "1.1.2"
  }
 },
 "nbformat": 4,
 "nbformat_minor": 0
}
