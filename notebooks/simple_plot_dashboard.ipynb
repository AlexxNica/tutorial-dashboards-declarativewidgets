{
 "cells": [
  {
   "cell_type": "markdown",
   "metadata": {
    "urth": {
     "dashboard": {
      "hidden": true
     }
    }
   },
   "source": [
    "# Simple Plot Dashboard\n",
    "\n",
    "Uses matplotlib, seaborn, and declarative widgets to create dropdowns for select plot parameters."
   ]
  },
  {
   "cell_type": "markdown",
   "metadata": {
    "urth": {
     "dashboard": {
      "hidden": true
     }
    }
   },
   "source": [
    "## Sanbox\n",
    "\n",
    "Let's look at the data briefly before we create the interactive widgets."
   ]
  },
  {
   "cell_type": "code",
   "execution_count": null,
   "metadata": {
    "collapsed": true,
    "urth": {
     "dashboard": {
      "hidden": true
     }
    }
   },
   "outputs": [],
   "source": [
    "%matplotlib inline"
   ]
  },
  {
   "cell_type": "code",
   "execution_count": null,
   "metadata": {
    "collapsed": true,
    "urth": {
     "dashboard": {
      "hidden": true
     }
    }
   },
   "outputs": [],
   "source": [
    "import seaborn as sns\n",
    "import matplotlib.pyplot as plt"
   ]
  },
  {
   "cell_type": "code",
   "execution_count": null,
   "metadata": {
    "collapsed": true,
    "urth": {
     "dashboard": {
      "hidden": true
     }
    }
   },
   "outputs": [],
   "source": [
    "df = sns.load_dataset('tips')"
   ]
  },
  {
   "cell_type": "code",
   "execution_count": null,
   "metadata": {
    "collapsed": false,
    "urth": {
     "dashboard": {
      "hidden": true
     }
    }
   },
   "outputs": [],
   "source": [
    "len(df)"
   ]
  },
  {
   "cell_type": "code",
   "execution_count": null,
   "metadata": {
    "collapsed": false,
    "urth": {
     "dashboard": {
      "hidden": true
     }
    }
   },
   "outputs": [],
   "source": [
    "df.head()"
   ]
  },
  {
   "cell_type": "markdown",
   "metadata": {
    "urth": {
     "dashboard": {
      "hidden": true
     }
    }
   },
   "source": [
    "We'll focus on a box plot with x, y, and hue as configurable values."
   ]
  },
  {
   "cell_type": "code",
   "execution_count": null,
   "metadata": {
    "collapsed": false,
    "urth": {
     "dashboard": {
      "hidden": true
     }
    }
   },
   "outputs": [],
   "source": [
    "sns.boxplot(x=\"day\", y=\"total_bill\", hue=\"time\", data=df, palette=\"PRGn\")"
   ]
  },
  {
   "cell_type": "markdown",
   "metadata": {
    "urth": {
     "dashboard": {
      "hidden": true
     }
    }
   },
   "source": [
    "## Dashboard"
   ]
  },
  {
   "cell_type": "code",
   "execution_count": null,
   "metadata": {
    "collapsed": true,
    "urth": {
     "dashboard": {
      "hidden": true
     }
    }
   },
   "outputs": [],
   "source": [
    "def plot(x='day', y='total_bill', hue='sex'):\n",
    "    '''Draws the plot and returns the figure for display.'''\n",
    "    fig, ax = plt.subplots(figsize=(9,5))\n",
    "    sns.boxplot(x=x, y=y, hue=hue, data=df, palette=\"PRGn\", ax=ax)\n",
    "    plt.tight_layout()\n",
    "    plt.close()\n",
    "    return fig"
   ]
  },
  {
   "cell_type": "markdown",
   "metadata": {
    "urth": {
     "dashboard": {
      "hidden": true
     }
    }
   },
   "source": [
    "Import widget components and add some basic styling fixes."
   ]
  },
  {
   "cell_type": "code",
   "execution_count": null,
   "metadata": {
    "collapsed": false,
    "urth": {
     "dashboard": {
      "hidden": true
     }
    }
   },
   "outputs": [],
   "source": [
    "%%html\n",
    "<link rel=\"import\" href=\"urth_components/paper-dropdown-menu/paper-dropdown-menu.html\" \n",
    "    is='urth-core-import' package='PolymerElements/paper-dropdown-menu'>\n",
    "<link rel=\"import\" href=\"urth_components/paper-menu/paper-menu.html\"\n",
    "    is='urth-core-import' package='PolymerElements/paper-menu'>\n",
    "<link rel=\"import\" href=\"urth_components/paper-item/paper-item.html\"\n",
    "    is='urth-core-import' package='PolymerElements/paper-item'>\n",
    "    \n",
    "<style>\n",
    "    div.output_wrapper {\n",
    "        z-index: auto; /* fixes menus showing under code cells */\n",
    "    }\n",
    "    div.controls span {\n",
    "        padding: 0 20px;\n",
    "    }\n",
    "    div.controls h3 {\n",
    "        margin-bottom: 20px;\n",
    "    }\n",
    "    div.controls {\n",
    "        text-align: center;\n",
    "    }\n",
    "    div.plot img {\n",
    "        margin-left: auto !important;\n",
    "        margin-right: auto !important;\n",
    "    }\n",
    "</style>"
   ]
  },
  {
   "cell_type": "markdown",
   "metadata": {
    "urth": {
     "dashboard": {
      "hidden": true
     }
    }
   },
   "source": [
    "Distinguish categorical data columns from numeric so that the user is not offered choices that make for completely degenerate plots."
   ]
  },
  {
   "cell_type": "code",
   "execution_count": null,
   "metadata": {
    "collapsed": true,
    "urth": {
     "dashboard": {
      "hidden": true
     }
    }
   },
   "outputs": [],
   "source": [
    "from urth.widgets.widget_channels import channel"
   ]
  },
  {
   "cell_type": "code",
   "execution_count": null,
   "metadata": {
    "collapsed": false,
    "urth": {
     "dashboard": {
      "hidden": true
     }
    }
   },
   "outputs": [],
   "source": [
    "numeric = [name for name in df.columns if df[name].dtype in [float, int]]\n",
    "channel('default').set('numeric', numeric)\n",
    "channel('default').set('categorical', [name for name in df.columns if name not in numeric])"
   ]
  },
  {
   "cell_type": "code",
   "execution_count": null,
   "metadata": {
    "collapsed": false,
    "urth": {
     "dashboard": {
      "layout": {}
     }
    }
   },
   "outputs": [],
   "source": [
    "%%html\n",
    "<template is=\"urth-core-bind\">\n",
    "  <div class=\"controls\">\n",
    "    <h3>Tips Dataset</h3>\n",
    "    <span>Plot</span>\n",
    "    <paper-dropdown-menu label=\"Select x-axis\" selected-item-label=\"{{ x }}\" noink>\n",
    "        <paper-menu class=\"dropdown-content\" selected=\"[[ x ]]\" attr-for-selected=\"label\">\n",
    "            <template is=\"dom-repeat\" items=\"[[ categorical ]]\">\n",
    "                <paper-item label=\"[[ item ]]\">[[item]]</paper-item>\n",
    "            </template>\n",
    "        </paper-menu>\n",
    "    </paper-dropdown-menu>\n",
    "    <span>by</span>\n",
    "    <paper-dropdown-menu label=\"Select y-axis\" selected-item-label=\"{{ y }}\" noink>\n",
    "        <paper-menu class=\"dropdown-content\" selected=\"[[ y ]]\" attr-for-selected=\"label\">\n",
    "            <template is=\"dom-repeat\" items=\"[[ numeric ]]\">\n",
    "                <paper-item label=\"[[ item ]]\">[[item]]</paper-item>\n",
    "            </template>\n",
    "        </paper-menu>\n",
    "    </paper-dropdown-menu>\n",
    "    <span>colored by</span>\n",
    "    <paper-dropdown-menu label=\"Select hue\" selected-item-label=\"{{ hue }}\" noink>\n",
    "        <paper-menu class=\"dropdown-content\" selected=\"[[ hue ]]\" attr-for-selected=\"label\">\n",
    "            <template is=\"dom-repeat\" items=\"[[ categorical ]]\">\n",
    "                <paper-item label=\"[[ item ]]\">[[item]]</paper-item>\n",
    "            </template>\n",
    "        </paper-menu>\n",
    "    </paper-dropdown-menu> \n",
    "  </div>\n",
    "</template>"
   ]
  },
  {
   "cell_type": "code",
   "execution_count": null,
   "metadata": {
    "collapsed": false,
    "urth": {
     "dashboard": {
      "layout": {}
     }
    }
   },
   "outputs": [],
   "source": [
    "%%html\n",
    "<template is=\"urth-core-bind\">\n",
    "  <div class=\"plot\">\n",
    "    <urth-core-function ref=\"plot\" arg-x=\"{{x}}\" arg-y=\"{{y}}\" arg-hue=\"{{hue}}\" result=\"{{plot}}\" auto />\n",
    "    <img src=\"[[plot]]\" />\n",
    "  </div>\n",
    "</template>"
   ]
  }
 ],
 "metadata": {
  "kernelspec": {
   "display_name": "Python 3",
   "language": "python",
   "name": "python3"
  },
  "language_info": {
   "codemirror_mode": {
    "name": "ipython",
    "version": 3
   },
   "file_extension": ".py",
   "mimetype": "text/x-python",
   "name": "python",
   "nbconvert_exporter": "python",
   "pygments_lexer": "ipython3",
   "version": "3.4.4"
  },
  "urth": {
   "dashboard": {
    "layout": "report"
   }
  }
 },
 "nbformat": 4,
 "nbformat_minor": 0
}
