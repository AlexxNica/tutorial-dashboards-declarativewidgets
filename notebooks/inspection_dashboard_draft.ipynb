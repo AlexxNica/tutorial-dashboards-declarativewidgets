{
 "cells": [
  {
   "cell_type": "markdown",
   "metadata": {
    "extensions": {
     "jupyter_dashboards": {
      "version": 1,
      "views": {
       "grid_default": {
        "col": 0,
        "height": 2,
        "hidden": false,
        "row": 0,
        "width": 12
       },
       "report_default": {
        "hidden": false
       }
      }
     }
    }
   },
   "source": [
    "# Draft Health Inspections Dashboard\n",
    "\n",
    "This notebook is a place to toy with some interactive widgets that might be part of a tutorial."
   ]
  },
  {
   "cell_type": "code",
   "execution_count": null,
   "metadata": {
    "collapsed": true,
    "extensions": {
     "jupyter_dashboards": {
      "version": 1,
      "views": {
       "grid_default": {
        "hidden": true
       },
       "report_default": {
        "hidden": false
       }
      }
     }
    }
   },
   "outputs": [],
   "source": [
    "import pandas as pd\n",
    "import numpy as np\n",
    "import json\n",
    "import string\n",
    "import io\n",
    "import requests\n",
    "import declarativewidgets"
   ]
  },
  {
   "cell_type": "code",
   "execution_count": null,
   "metadata": {
    "collapsed": true
   },
   "outputs": [],
   "source": [
    "declarativewidgets.init()"
   ]
  },
  {
   "cell_type": "markdown",
   "metadata": {
    "extensions": {
     "jupyter_dashboards": {
      "version": 1,
      "views": {
       "grid_default": {
        "hidden": true
       },
       "report_default": {
        "hidden": false
       }
      }
     }
    }
   },
   "source": [
    "Individual DataFrames."
   ]
  },
  {
   "cell_type": "code",
   "execution_count": null,
   "metadata": {
    "collapsed": false,
    "extensions": {
     "jupyter_dashboards": {
      "version": 1,
      "views": {
       "grid_default": {
        "hidden": true
       },
       "report_default": {
        "hidden": false
       }
      }
     }
    }
   },
   "outputs": [],
   "source": [
    "est = pd.read_csv('https://ibm.box.com/shared/static/7r91a7y5qk47au8wsuwvvfp38p1ufoo7.csv', parse_dates=['opened', 'closed'])"
   ]
  },
  {
   "cell_type": "code",
   "execution_count": null,
   "metadata": {
    "collapsed": false,
    "extensions": {
     "jupyter_dashboards": {
      "version": 1,
      "views": {
       "grid_default": {
        "hidden": true
       },
       "report_default": {
        "hidden": false
       }
      }
     }
    }
   },
   "outputs": [],
   "source": [
    "ins = pd.read_csv('https://ibm.box.com/shared/static/t69z2rbvzmrrtlqzlfearhx46hpj2uur.csv', parse_dates=['date'])"
   ]
  },
  {
   "cell_type": "code",
   "execution_count": null,
   "metadata": {
    "collapsed": true,
    "extensions": {
     "jupyter_dashboards": {
      "version": 1,
      "views": {
       "grid_default": {
        "hidden": true
       },
       "report_default": {
        "hidden": false
       }
      }
     }
    }
   },
   "outputs": [],
   "source": [
    "vio = pd.read_csv('https://ibm.box.com/shared/static/cnixvlrt43qv56f2docll423rkau0oet.csv')"
   ]
  },
  {
   "cell_type": "code",
   "execution_count": null,
   "metadata": {
    "collapsed": true,
    "extensions": {
     "jupyter_dashboards": {
      "version": 1,
      "views": {
       "grid_default": {
        "hidden": true
       },
       "report_default": {
        "hidden": false
       }
      }
     }
    }
   },
   "outputs": [],
   "source": [
    "est['latlon'] = est.latlon.str.split(', ')"
   ]
  },
  {
   "cell_type": "markdown",
   "metadata": {
    "extensions": {
     "jupyter_dashboards": {
      "version": 1,
      "views": {
       "grid_default": {
        "hidden": true
       },
       "report_default": {
        "hidden": false
       }
      }
     }
    }
   },
   "source": [
    "Joined DataFrames."
   ]
  },
  {
   "cell_type": "code",
   "execution_count": null,
   "metadata": {
    "collapsed": false,
    "extensions": {
     "jupyter_dashboards": {
      "version": 1,
      "views": {
       "grid_default": {
        "hidden": true
       },
       "report_default": {
        "hidden": false
       }
      }
     }
    }
   },
   "outputs": [],
   "source": [
    "est_ins = pd.merge(est, ins, left_on='id', right_on='est_id', suffixes=('_est', '_ins'))"
   ]
  },
  {
   "cell_type": "code",
   "execution_count": null,
   "metadata": {
    "collapsed": false,
    "extensions": {
     "jupyter_dashboards": {
      "version": 1,
      "views": {
       "grid_default": {
        "hidden": true
       },
       "report_default": {
        "hidden": false
       }
      }
     }
    }
   },
   "outputs": [],
   "source": [
    "est_ins_vio = pd.merge(est_ins, vio, left_on='id_ins', right_on='insp_id', suffixes=('', '_vio'))"
   ]
  },
  {
   "cell_type": "markdown",
   "metadata": {
    "extensions": {
     "jupyter_dashboards": {
      "version": 1,
      "views": {
       "grid_default": {
        "hidden": true
       },
       "report_default": {
        "hidden": false
       }
      }
     }
    }
   },
   "source": [
    "## Filter By Name"
   ]
  },
  {
   "cell_type": "code",
   "execution_count": null,
   "metadata": {
    "collapsed": false,
    "extensions": {
     "jupyter_dashboards": {
      "version": 1,
      "views": {
       "grid_default": {
        "hidden": true
       },
       "report_default": {
        "hidden": false
       }
      }
     }
    }
   },
   "outputs": [],
   "source": [
    "%%html\n",
    "<link rel=\"import\" href=\"urth_components/paper-input/paper-input.html\" is='urth-core-import'>"
   ]
  },
  {
   "cell_type": "code",
   "execution_count": null,
   "metadata": {
    "collapsed": false,
    "extensions": {
     "jupyter_dashboards": {
      "version": 1,
      "views": {
       "grid_default": {
        "col": 0,
        "height": 3,
        "hidden": false,
        "row": 2,
        "width": 12
       },
       "report_default": {
        "hidden": false
       }
      }
     }
    }
   },
   "outputs": [],
   "source": [
    "%%html\n",
    "<template is=\"urth-core-bind\">\n",
    "    <paper-input value=\"{{pattern}}\" label=\"Filter by establishment name\" ></paper-input>\n",
    "</template>"
   ]
  },
  {
   "cell_type": "code",
   "execution_count": null,
   "metadata": {
    "collapsed": true,
    "extensions": {
     "jupyter_dashboards": {
      "version": 1,
      "views": {
       "grid_default": {
        "hidden": true
       },
       "report_default": {
        "hidden": false
       }
      }
     }
    }
   },
   "outputs": [],
   "source": [
    "def filter_df(df, pattern):\n",
    "    return df[df.name.str.contains(pattern, case=False)]"
   ]
  },
  {
   "cell_type": "markdown",
   "metadata": {
    "extensions": {
     "jupyter_dashboards": {
      "version": 1,
      "views": {
       "grid_default": {
        "hidden": true
       },
       "report_default": {
        "hidden": false
       }
      }
     }
    }
   },
   "source": [
    "## Table of Establishments"
   ]
  },
  {
   "cell_type": "code",
   "execution_count": null,
   "metadata": {
    "collapsed": false,
    "extensions": {
     "jupyter_dashboards": {
      "version": 1,
      "views": {
       "grid_default": {
        "hidden": true
       },
       "report_default": {
        "hidden": false
       }
      }
     }
    }
   },
   "outputs": [],
   "source": [
    "%%html\n",
    "<link rel=\"import\" href=\"urth_components/urth-viz-table/urth-viz-table.html\" is='urth-core-import'>"
   ]
  },
  {
   "cell_type": "code",
   "execution_count": null,
   "metadata": {
    "collapsed": true,
    "extensions": {
     "jupyter_dashboards": {
      "version": 1,
      "views": {
       "grid_default": {
        "hidden": true
       },
       "report_default": {
        "hidden": false
       }
      }
     }
    }
   },
   "outputs": [],
   "source": [
    "def est_table(pattern=''):\n",
    "    '''\n",
    "    Build a DataFrame with basic info about establishments.\n",
    "    Include information from the latest inspection.\n",
    "    Clean up the names a bit and format the dates.\n",
    "    '''\n",
    "    df = (filter_df(est_ins, pattern)\n",
    "          .dropna(subset=['final_score'])\n",
    "          .sort_values(['name', 'date'])\n",
    "          .drop_duplicates('id_est', keep='last'))\n",
    "    df['name'] = df.name.str.slice(stop=25).apply(lambda s: string.capwords(s, ' '))\n",
    "    df['date'] = df.date.dt.strftime('%Y-%m-%d')\n",
    "    return df[['est_id', 'name', 'date', 'grade', 'final_score', 'latlon']].rename(columns={'date': 'latest_inspection'})"
   ]
  },
  {
   "cell_type": "code",
   "execution_count": null,
   "metadata": {
    "collapsed": false,
    "extensions": {
     "jupyter_dashboards": {
      "version": 1,
      "views": {
       "grid_default": {
        "col": 0,
        "height": 18,
        "hidden": false,
        "row": 5,
        "width": 6
       },
       "report_default": {
        "hidden": false
       }
      }
     }
    },
    "scrolled": true
   },
   "outputs": [],
   "source": [
    "%%html\n",
    "<template is=\"urth-core-bind\">\n",
    "    <urth-core-function ref=\"est_table\" \n",
    "                        arg-pattern=\"{{pattern}}\" \n",
    "                        result=\"{{est_table}}\" \n",
    "                        limit=\"1600 \"\n",
    "                        delay=\"500\" \n",
    "                        auto></urth-core-dataframe>\n",
    "    <urth-viz-table datarows=\"{{ est_table.data }}\" rows-visible=\"19\" selection=\"{{est_selection}}\" columns=\"{{ est_table.columns }}\" selection-as-object>\n",
    "    </urth-viz-table>\n",
    "</template>"
   ]
  },
  {
   "cell_type": "markdown",
   "metadata": {
    "extensions": {
     "jupyter_dashboards": {
      "version": 1,
      "views": {
       "grid_default": {
        "hidden": true
       },
       "report_default": {
        "hidden": false
       }
      }
     }
    }
   },
   "source": [
    "## Establishment Location"
   ]
  },
  {
   "cell_type": "code",
   "execution_count": null,
   "metadata": {
    "collapsed": false,
    "extensions": {
     "jupyter_dashboards": {
      "version": 1,
      "views": {
       "grid_default": {
        "hidden": true
       },
       "report_default": {
        "hidden": false
       }
      }
     }
    }
   },
   "outputs": [],
   "source": [
    "%%html\n",
    "<link rel=\"import\" href=\"urth_components/google-map/google-map.html\" is='urth-core-import' package='GoogleWebComponents/google-map'>\n",
    "<link rel=\"import\" href=\"urth_components/google-map/google-map-marker.html\" is='urth-core-import' package='GoogleWebComponents/google-map'>"
   ]
  },
  {
   "cell_type": "code",
   "execution_count": null,
   "metadata": {
    "collapsed": false,
    "extensions": {
     "jupyter_dashboards": {
      "version": 1,
      "views": {
       "grid_default": {
        "col": 6,
        "height": 18,
        "hidden": false,
        "row": 5,
        "width": 6
       },
       "report_default": {
        "hidden": false
       }
      }
     }
    }
   },
   "outputs": [],
   "source": [
    "%%html\n",
    "<template is=\"urth-core-bind\">\n",
    "    <google-map style=\"height: 500px\" latitude=\"[[est_selection.latlon.0]]\" longitude=\"[[est_selection.latlon.1]]\" zoom=\"13\">\n",
    "        <google-map-marker latitude=\"[[est_selection.latlon.0]]\" longitude=\"[[est_selection.latlon.1]]\">\n",
    "        </google-map-marker>\n",
    "    </google-map>\n",
    "</template>"
   ]
  },
  {
   "cell_type": "markdown",
   "metadata": {
    "extensions": {
     "jupyter_dashboards": {
      "version": 1,
      "views": {
       "grid_default": {
        "hidden": true
       },
       "report_default": {
        "hidden": false
       }
      }
     }
    }
   },
   "source": [
    "## Histogram of Grades"
   ]
  },
  {
   "cell_type": "code",
   "execution_count": null,
   "metadata": {
    "collapsed": false,
    "extensions": {
     "jupyter_dashboards": {
      "version": 1,
      "views": {
       "grid_default": {
        "hidden": true
       },
       "report_default": {
        "hidden": false
       }
      }
     }
    }
   },
   "outputs": [],
   "source": [
    "%%html\n",
    "<link rel=\"import\" href=\"urth_components/urth-viz-bar/urth-viz-bar.html\" is='urth-core-import'>\n",
    "<style is=\"custom\">\n",
    "p.title {\n",
    "    text-align: center;\n",
    "    font-weight: bold;\n",
    "}\n",
    "</style>"
   ]
  },
  {
   "cell_type": "code",
   "execution_count": null,
   "metadata": {
    "collapsed": true,
    "extensions": {
     "jupyter_dashboards": {
      "version": 1,
      "views": {
       "grid_default": {
        "hidden": true
       },
       "report_default": {
        "hidden": false
       }
      }
     }
    }
   },
   "outputs": [],
   "source": [
    "def grade_hist(pattern='', est_id:int=None):\n",
    "    '''\n",
    "    Build histograms of grades for establishments matching the pattern\n",
    "    and (optionally) for a specific establishment ID.\n",
    "    '''\n",
    "    # op to apply\n",
    "    op = (lambda df: df.grade\n",
    "                       .value_counts(normalize=True, dropna=False)\n",
    "                       .to_frame())\n",
    "    # apply to rows matching pattern\n",
    "    agg = op(filter_df(est_ins, pattern))\n",
    "    if est_id is not None:\n",
    "        # apply to rows for the establishment\n",
    "        sel = op(est_ins[est_ins.est_id == est_id])\n",
    "        # merge the two series\n",
    "        agg = pd.merge(agg, sel, how='outer', left_index=True, right_index=True, suffixes=('_all', '_selected'))\n",
    "    # replace na in the index labels and make the index a column\n",
    "    return agg.rename(index={np.nan: 'N/A'}).reset_index()"
   ]
  },
  {
   "cell_type": "code",
   "execution_count": null,
   "metadata": {
    "collapsed": false,
    "extensions": {
     "jupyter_dashboards": {
      "version": 1,
      "views": {
       "grid_default": {
        "col": 7,
        "height": 18,
        "hidden": false,
        "row": 23,
        "width": 5
       },
       "report_default": {
        "hidden": false
       }
      }
     }
    }
   },
   "outputs": [],
   "source": [
    "%%html\n",
    "<template is=\"urth-core-bind\">\n",
    "    <urth-core-function ref=\"grade_hist\" \n",
    "                        result=\"{{grade_hist}}\" \n",
    "                        arg-pattern=\"{{pattern}}\" \n",
    "                        arg-est_id=\"{{est_selection.est_id}}\" \n",
    "                        delay=\"500\" \n",
    "                        auto></urth-core-function>\n",
    "    <p class=\"title\">All time grades</p>\n",
    "    <urth-viz-bar datarows='{{grade_hist.data}}' \n",
    "                  columns='{{grade_hist.columns}}' \n",
    "                  xlabel=\"Grade\" \n",
    "                  ylabel=\"%\" \n",
    "                  ybounds='[0, 1.0]'></urth-viz-bar>\n",
    "</template>"
   ]
  },
  {
   "cell_type": "markdown",
   "metadata": {
    "extensions": {
     "jupyter_dashboards": {
      "version": 1,
      "views": {
       "grid_default": {
        "hidden": true
       },
       "report_default": {
        "hidden": false
       }
      }
     }
    }
   },
   "source": [
    "## Histogram of Scores"
   ]
  },
  {
   "cell_type": "code",
   "execution_count": null,
   "metadata": {
    "collapsed": true,
    "extensions": {
     "jupyter_dashboards": {
      "version": 1,
      "views": {
       "grid_default": {
        "hidden": true
       },
       "report_default": {
        "hidden": false
       }
      }
     }
    }
   },
   "outputs": [],
   "source": [
    "def score_hist(pattern='', est_id:int=None):\n",
    "    '''\n",
    "    Build histograms of scores for establishments matching the pattern\n",
    "    and (optionally) for a specific establishment ID.\n",
    "    '''\n",
    "    # only count grades for full inspections\n",
    "    df = est_ins[est_ins.type_ins.str.contains('INSPECTION')]\n",
    "    # op to apply\n",
    "    op = (lambda df: df.final_score\n",
    "                       .dropna()\n",
    "                       .value_counts(normalize=True)\n",
    "                       .to_frame())\n",
    "    # apply to rows matching pattern\n",
    "    agg = op(filter_df(df, pattern))\n",
    "    if est_id is not None:\n",
    "        # apply to rows for the establishment\n",
    "        sel = op(df[df.est_id == est_id])\n",
    "        # merge the two series\n",
    "        agg = pd.merge(agg, sel, how='outer', left_index=True, right_index=True, suffixes=('_all', '_selected'))\n",
    "    # make the index a column and sort by the score\n",
    "    agg = agg.reset_index().sort_values('index', ascending=False)\n",
    "    # only show scores over 70 else noise\n",
    "    return agg[agg['index'] > 70]"
   ]
  },
  {
   "cell_type": "code",
   "execution_count": null,
   "metadata": {
    "collapsed": false,
    "extensions": {
     "jupyter_dashboards": {
      "version": 1,
      "views": {
       "grid_default": {
        "col": 0,
        "height": 18,
        "hidden": false,
        "row": 23,
        "width": 7
       },
       "report_default": {
        "hidden": false
       }
      }
     }
    },
    "scrolled": false
   },
   "outputs": [],
   "source": [
    "%%html\n",
    "<template is=\"urth-core-bind\">\n",
    "    <urth-core-function ref=\"score_hist\" result=\"{{df}}\" arg-pattern=\"{{pattern}}\" arg-est_id=\"{{est_selection.est_id}}\" delay=\"500\" auto></urth-core-function>\n",
    "    <p class=\"title\">All time scores</p>\n",
    "    <urth-viz-bar datarows='{{df.data}}' columns='{{df.columns}}' xlabel=\"Score\" ylabel=\"%\" ybounds='[0, 1.0]'></urth-viz-bar>\n",
    "</template>"
   ]
  },
  {
   "cell_type": "markdown",
   "metadata": {
    "extensions": {
     "jupyter_dashboards": {
      "version": 1,
      "views": {
       "grid_default": {
        "hidden": true
       },
       "report_default": {
        "hidden": false
       }
      }
     }
    }
   },
   "source": [
    "## Mean Score Over Time"
   ]
  },
  {
   "cell_type": "code",
   "execution_count": null,
   "metadata": {
    "collapsed": false,
    "extensions": {
     "jupyter_dashboards": {
      "version": 1,
      "views": {
       "grid_default": {
        "col": 0,
        "height": 4,
        "hidden": false,
        "row": 79,
        "width": 4
       },
       "report_default": {
        "hidden": false
       }
      }
     }
    }
   },
   "outputs": [],
   "source": [
    "%%html\n",
    "<link rel=\"import\" href=\"urth_components/urth-viz-scatter/urth-viz-scatter.html\" is='urth-core-import'>"
   ]
  },
  {
   "cell_type": "code",
   "execution_count": null,
   "metadata": {
    "collapsed": true,
    "extensions": {
     "jupyter_dashboards": {
      "version": 1,
      "views": {
       "grid_default": {
        "hidden": true
       },
       "report_default": {
        "hidden": false
       }
      }
     }
    }
   },
   "outputs": [],
   "source": [
    "from datetime import datetime"
   ]
  },
  {
   "cell_type": "code",
   "execution_count": null,
   "metadata": {
    "collapsed": false,
    "extensions": {
     "jupyter_dashboards": {
      "version": 1,
      "views": {
       "grid_default": {
        "hidden": true
       },
       "report_default": {
        "hidden": false
       }
      }
     }
    }
   },
   "outputs": [],
   "source": [
    "def mean_score(period='1q', pattern='', est_id:int=None):\n",
    "    '''\n",
    "    Build time series of mean scores per quarter for establishments\n",
    "    matching the pattern and (optionally) for a specific establishment ID.\n",
    "    '''\n",
    "    # op to apply\n",
    "    op = (lambda df: df.set_index('date')\n",
    "                       .sort_index()\n",
    "                       .final_score\n",
    "                       .resample(period, how='mean').to_frame())\n",
    "    # apply to rows matching pattern\n",
    "    agg = op(filter_df(est_ins, pattern))\n",
    "    if est_id is not None:\n",
    "        # apply to rows for the establishment\n",
    "        sel = op(est_ins[est_ins.est_id == est_id])\n",
    "        # merge the two series\n",
    "        agg = pd.merge(agg, sel, how='outer', left_index=True, right_index=True, suffixes=('_all', '_selected'))\n",
    "    # make the index a column\n",
    "    return agg.reset_index()"
   ]
  },
  {
   "cell_type": "code",
   "execution_count": null,
   "metadata": {
    "collapsed": false,
    "extensions": {
     "jupyter_dashboards": {
      "version": 1,
      "views": {
       "grid_default": {
        "col": 0,
        "height": 19,
        "hidden": false,
        "row": 41,
        "width": 12
       },
       "report_default": {
        "hidden": false
       }
      }
     }
    }
   },
   "outputs": [],
   "source": [
    "%%html\n",
    "<template is=\"urth-core-bind\">\n",
    "    <urth-core-function ref=\"mean_score\" \n",
    "                        arg-pattern=\"{{pattern}}\" \n",
    "                        result=\"{{mean_score}}\" \n",
    "                        arg-est_id=\"{{est_selection.est_id}}\" \n",
    "                        delay=\"500\" \n",
    "                        auto></urth-core-function>\n",
    "    \n",
    "    <p class=\"title\">Mean score per quarter</p>\n",
    "    <urth-viz-scatter palette='[\"#4e73ac\", \"#bc5a54\"]' \n",
    "                      datarows='{{mean_score.data}}' \n",
    "                      rotatelabels=\"-25\" \n",
    "                      columns='{{mean_score.columns}}'\n",
    "                      ybounds='[0, 102]'>\n",
    "        <urth-viz-col index=\"0\" type=\"date\" format=\"%Y-%m-%d\"></urth-viz-col>\n",
    "    </urth-viz-scatter>\n",
    "</template>"
   ]
  },
  {
   "cell_type": "markdown",
   "metadata": {
    "collapsed": true,
    "extensions": {
     "jupyter_dashboards": {
      "version": 1,
      "views": {
       "grid_default": {
        "hidden": true
       },
       "report_default": {
        "hidden": false
       }
      }
     }
    }
   },
   "source": [
    "## Violations Over Time"
   ]
  },
  {
   "cell_type": "code",
   "execution_count": null,
   "metadata": {
    "collapsed": true,
    "extensions": {
     "jupyter_dashboards": {
      "version": 1,
      "views": {
       "grid_default": {
        "hidden": true
       },
       "report_default": {
        "hidden": false
       }
      }
     }
    }
   },
   "outputs": [],
   "source": [
    "def violation_count(period='1q', pattern='', est_id:int=None):\n",
    "    '''\n",
    "    Build time series of mean scores per quarter for establishments\n",
    "    matching the pattern and (optionally) for a specific establishment ID.\n",
    "    '''\n",
    "    # op to apply\n",
    "    op = (lambda df: df.groupby('date')\n",
    "                       .count()\n",
    "                       .sort_index()\n",
    "                       .resample('1q', how='median')\n",
    "                       .comments\n",
    "                       .to_frame())\n",
    "    # apply to rows matching pattern\n",
    "    agg = op(filter_df(est_ins_vio, pattern))\n",
    "    if est_id is not None:\n",
    "        # apply to rows for the establishment\n",
    "        sel = op(est_ins_vio[est_ins_vio.est_id == est_id])\n",
    "        # merge the two series\n",
    "        agg = pd.merge(agg, sel, how='outer', left_index=True, right_index=True, suffixes=('_all', '_selected'))\n",
    "    # make the index a column\n",
    "    return agg.reset_index()"
   ]
  },
  {
   "cell_type": "code",
   "execution_count": null,
   "metadata": {
    "collapsed": false,
    "extensions": {
     "jupyter_dashboards": {
      "version": 1,
      "views": {
       "grid_default": {
        "col": 0,
        "height": 19,
        "hidden": false,
        "row": 60,
        "width": 12
       },
       "report_default": {
        "hidden": false
       }
      }
     }
    }
   },
   "outputs": [],
   "source": [
    "%%html\n",
    "<template is=\"urth-core-bind\">\n",
    "    <urth-core-function ref=\"violation_count\" \n",
    "                        result=\"{{violation_count}}\" \n",
    "                        arg-pattern=\"{{pattern}}\" \n",
    "                        arg-est_id=\"{{est_selection.est_id}}\" \n",
    "                        auto></urth-core-function>\n",
    "\n",
    "    <p class=\"title\">Median violations per quarter</p>\n",
    "    <urth-viz-scatter datarows='{{violation_count.data}}' \n",
    "                      palette='[\"#4e73ac\", \"#bc5a54\"]'\n",
    "                      rotatelabels=\"-25\" \n",
    "                      ybounds=\"[0]\"\n",
    "                      columns='{{violation_count.columns}}'>\n",
    "        <urth-viz-col index=\"0\" type=\"date\" format=\"%Y-%m-%d\"></urth-viz-col>\n",
    "    </urth-viz-scatter>\n",
    "</template>"
   ]
  },
  {
   "cell_type": "code",
   "execution_count": null,
   "metadata": {
    "collapsed": false,
    "extensions": {
     "jupyter_dashboards": {
      "version": 1,
      "views": {
       "grid_default": {
        "hidden": true
       },
       "report_default": {
        "hidden": false
       }
      }
     }
    }
   },
   "outputs": [],
   "source": [
    "%%html\n",
    "<urth-core-channel debug>"
   ]
  }
 ],
 "metadata": {
  "extensions": {
   "jupyter_dashboards": {
    "activeView": "grid_default",
    "version": 1,
    "views": {
     "grid_default": {
      "cellMargin": 10,
      "defaultCellHeight": 20,
      "maxColumns": 12,
      "name": "grid",
      "type": "grid"
     },
     "report_default": {
      "name": "report",
      "type": "report"
     }
    }
   }
  },
  "kernelspec": {
   "display_name": "Python 3",
   "language": "python",
   "name": "python3"
  },
  "language_info": {
   "codemirror_mode": {
    "name": "ipython",
    "version": 3
   },
   "file_extension": ".py",
   "mimetype": "text/x-python",
   "name": "python",
   "nbconvert_exporter": "python",
   "pygments_lexer": "ipython3",
   "version": "3.5.1"
  },
  "widgets": {
   "state": {
    "3C8888A95EB44C68AB42D9B4409E3545": {
     "views": []
    },
    "52295A10863B4BF58DE488A13A9E393A": {
     "views": []
    },
    "7D0FC16AE6A444888F590E30C0146253": {
     "views": []
    },
    "A7025D7E9DCA425DB94FB2256ACE71C2": {
     "views": []
    },
    "A74D8B2482E84A438B20544CB66CED65": {
     "views": []
    },
    "B071F4DBEFB446B08F2B4EEE25140A79": {
     "views": []
    }
   },
   "version": "1.1.2"
  }
 },
 "nbformat": 4,
 "nbformat_minor": 0
}
