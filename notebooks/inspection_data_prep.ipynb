{
 "cells": [
  {
   "cell_type": "markdown",
   "metadata": {},
   "source": [
    "# Inspection Data Prep\n",
    "\n",
    "This notebook pulls a snapshot of data from the [Durham Open Data](https://opendurham.nc.gov/explore/?sort=modified) site. It preps a copy of the data for use in a hands-on tutorial session where everyone hitting the portal would be A Bad Thing."
   ]
  },
  {
   "cell_type": "code",
   "execution_count": 49,
   "metadata": {
    "collapsed": true
   },
   "outputs": [],
   "source": [
    "import os\n",
    "import pandas as pd\n",
    "from collections import OrderedDict\n",
    "from datetime import datetime"
   ]
  },
  {
   "cell_type": "code",
   "execution_count": 50,
   "metadata": {
    "collapsed": true
   },
   "outputs": [],
   "source": [
    "pd.options.display.max_columns = 200"
   ]
  },
  {
   "cell_type": "markdown",
   "metadata": {},
   "source": [
    "Restaurants data from https://opendurham.nc.gov/explore/dataset/restaurants-data/. Really, it's establishments since there's far more than restaurants in here."
   ]
  },
  {
   "cell_type": "code",
   "execution_count": 51,
   "metadata": {
    "collapsed": true
   },
   "outputs": [],
   "source": [
    "if not os.path.isfile('establishments_20160617_raw.csv'):\n",
    "    !wget -O establishments_20160617_raw.csv 'https://opendurham.nc.gov/explore/dataset/establishments-data/download/?format=csv&timezone=America/New_York&use_labels_for_header=true'\n",
    "establishments = pd.read_csv('./establishments_20160617_raw.csv', sep=';')"
   ]
  },
  {
   "cell_type": "markdown",
   "metadata": {},
   "source": [
    "Health inspection data from https://opendurham.nc.gov/explore/dataset/inspection-data/."
   ]
  },
  {
   "cell_type": "code",
   "execution_count": 52,
   "metadata": {
    "collapsed": false
   },
   "outputs": [
    {
     "name": "stderr",
     "output_type": "stream",
     "text": [
      "/opt/conda/lib/python3.5/site-packages/IPython/core/interactiveshell.py:2723: DtypeWarning: Columns (79) have mixed types. Specify dtype option on import or set low_memory=False.\n",
      "  interactivity=interactivity, compiler=compiler, result=result)\n"
     ]
    }
   ],
   "source": [
    "if not os.path.isfile('inspections_20160617_raw.csv'):\n",
    "    !wget -O inspections_20160617_raw.csv 'https://opendurham.nc.gov/explore/dataset/inspection-data/download/?format=csv&timezone=America/New_York&use_labels_for_header=true'\n",
    "inspections = pd.read_csv('./inspections_20160617_raw.csv', sep=';')"
   ]
  },
  {
   "cell_type": "markdown",
   "metadata": {},
   "source": [
    "Inspection violation data from https://opendurham.nc.gov/explore/dataset/violation-data/."
   ]
  },
  {
   "cell_type": "code",
   "execution_count": 53,
   "metadata": {
    "collapsed": true
   },
   "outputs": [],
   "source": [
    "if not os.path.isfile('violations_20160617_raw.csv'):\n",
    "    !wget -O violations_20160617_raw.csv 'https://opendurham.nc.gov/explore/dataset/violation-data/download/?format=csv&timezone=America/New_York&use_labels_for_header=true'\n",
    "violations = pd.read_csv('./violations_20160617_raw.csv', sep=';')"
   ]
  },
  {
   "cell_type": "markdown",
   "metadata": {},
   "source": [
    "## Establishments \n",
    "\n",
    "Let's only deal with food service and mobile food establishments."
   ]
  },
  {
   "cell_type": "code",
   "execution_count": 54,
   "metadata": {
    "collapsed": false
   },
   "outputs": [
    {
     "data": {
      "text/plain": [
       "Food Service             1075\n",
       "Swimming Pools            416\n",
       "Summer Food               221\n",
       "Day Care                  173\n",
       "Residential Care          144\n",
       "Mobile Food               140\n",
       "School Buildings           88\n",
       "Lodging                    60\n",
       "Tattoo Establishments      36\n",
       "Institutions               30\n",
       "Bed&Breakfast Home          4\n",
       "Adult Day Care              3\n",
       "Local Confinement           2\n",
       "Summer Camps                2\n",
       "Bed&Breakfast Inn           2\n",
       "Name: Rpt_Area_Desc, dtype: int64"
      ]
     },
     "execution_count": 54,
     "metadata": {},
     "output_type": "execute_result"
    }
   ],
   "source": [
    "establishments.Rpt_Area_Desc.value_counts()"
   ]
  },
  {
   "cell_type": "code",
   "execution_count": 55,
   "metadata": {
    "collapsed": false,
    "scrolled": false
   },
   "outputs": [],
   "source": [
    "establishments = establishments[(establishments.Rpt_Area_Desc == 'Food Service') | (establishments.Rpt_Area_Desc == 'Mobile Food')]"
   ]
  },
  {
   "cell_type": "code",
   "execution_count": 56,
   "metadata": {
    "collapsed": false
   },
   "outputs": [
    {
     "data": {
      "text/plain": [
       "1215"
      ]
     },
     "execution_count": 56,
     "metadata": {},
     "output_type": "execute_result"
    }
   ],
   "source": [
    "len(establishments)"
   ]
  },
  {
   "cell_type": "code",
   "execution_count": 57,
   "metadata": {
    "collapsed": false
   },
   "outputs": [
    {
     "data": {
      "text/html": [
       "<div>\n",
       "<table border=\"1\" class=\"dataframe\">\n",
       "  <thead>\n",
       "    <tr style=\"text-align: right;\">\n",
       "      <th></th>\n",
       "      <th>ID</th>\n",
       "      <th>Premise_Name</th>\n",
       "      <th>Premise_Address1</th>\n",
       "      <th>Premise_Address2</th>\n",
       "      <th>Premise_City</th>\n",
       "      <th>Premise_State</th>\n",
       "      <th>Premise_Zip</th>\n",
       "      <th>Premise_Phone</th>\n",
       "      <th>Hours_Of_Operation</th>\n",
       "      <th>Opening_Date</th>\n",
       "      <th>Closing_Date</th>\n",
       "      <th>Seats</th>\n",
       "      <th>Water</th>\n",
       "      <th>Sewage</th>\n",
       "      <th>Insp_Freq</th>\n",
       "      <th>Est_Group_Desc</th>\n",
       "      <th>Risk</th>\n",
       "      <th>Smoking_Allowed</th>\n",
       "      <th>Type_Description</th>\n",
       "      <th>Rpt_Area_Desc</th>\n",
       "      <th>Status</th>\n",
       "      <th>Transitional_Type_Desc</th>\n",
       "      <th>LatLon</th>\n",
       "    </tr>\n",
       "  </thead>\n",
       "  <tbody>\n",
       "    <tr>\n",
       "      <th>1</th>\n",
       "      <td>166934</td>\n",
       "      <td>MCDONALDS 27133</td>\n",
       "      <td>5507 S MIAMI BLVD</td>\n",
       "      <td>NaN</td>\n",
       "      <td>DURHAM</td>\n",
       "      <td>NC</td>\n",
       "      <td>27703</td>\n",
       "      <td>(919) 677-2700</td>\n",
       "      <td>NaN</td>\n",
       "      <td>2015-07-13</td>\n",
       "      <td>NaN</td>\n",
       "      <td>90</td>\n",
       "      <td>5 - Municipal/Community</td>\n",
       "      <td>4 - On-Site System</td>\n",
       "      <td>2</td>\n",
       "      <td>NaN</td>\n",
       "      <td>2</td>\n",
       "      <td>NaN</td>\n",
       "      <td>1 - Restaurant</td>\n",
       "      <td>Food Service</td>\n",
       "      <td>ACTIVE</td>\n",
       "      <td>FOOD</td>\n",
       "      <td>35.8771424, -78.8509667</td>\n",
       "    </tr>\n",
       "  </tbody>\n",
       "</table>\n",
       "</div>"
      ],
      "text/plain": [
       "       ID     Premise_Name   Premise_Address1 Premise_Address2 Premise_City  \\\n",
       "1  166934  MCDONALDS 27133  5507 S MIAMI BLVD              NaN       DURHAM   \n",
       "\n",
       "  Premise_State Premise_Zip   Premise_Phone Hours_Of_Operation Opening_Date  \\\n",
       "1            NC       27703  (919) 677-2700                NaN   2015-07-13   \n",
       "\n",
       "  Closing_Date  Seats                    Water              Sewage  Insp_Freq  \\\n",
       "1          NaN     90  5 - Municipal/Community  4 - On-Site System          2   \n",
       "\n",
       "  Est_Group_Desc  Risk Smoking_Allowed Type_Description Rpt_Area_Desc  Status  \\\n",
       "1            NaN     2             NaN   1 - Restaurant  Food Service  ACTIVE   \n",
       "\n",
       "  Transitional_Type_Desc                   LatLon  \n",
       "1                   FOOD  35.8771424, -78.8509667  "
      ]
     },
     "execution_count": 57,
     "metadata": {},
     "output_type": "execute_result"
    }
   ],
   "source": [
    "establishments.head(1)"
   ]
  },
  {
   "cell_type": "code",
   "execution_count": 58,
   "metadata": {
    "collapsed": false
   },
   "outputs": [],
   "source": [
    "to_keep = OrderedDict()\n",
    "to_keep['ID'] = 'id'\n",
    "to_keep['Premise_Name'] = 'name'\n",
    "to_keep['Opening_Date'] = 'opened'\n",
    "to_keep['Closing_Date'] = 'closed'\n",
    "to_keep['Insp_Freq'] = 'insp_freq'\n",
    "to_keep['Type_Description'] = 'type'\n",
    "to_keep['LatLon'] = 'latlon'"
   ]
  },
  {
   "cell_type": "code",
   "execution_count": 59,
   "metadata": {
    "collapsed": false,
    "scrolled": false
   },
   "outputs": [],
   "source": [
    "establishments_clean = establishments[list(to_keep.keys())].rename(columns=to_keep).reset_index(drop=True)"
   ]
  },
  {
   "cell_type": "code",
   "execution_count": 60,
   "metadata": {
    "collapsed": false
   },
   "outputs": [
    {
     "data": {
      "text/html": [
       "<div>\n",
       "<table border=\"1\" class=\"dataframe\">\n",
       "  <thead>\n",
       "    <tr style=\"text-align: right;\">\n",
       "      <th></th>\n",
       "      <th>id</th>\n",
       "      <th>name</th>\n",
       "      <th>opened</th>\n",
       "      <th>closed</th>\n",
       "      <th>insp_freq</th>\n",
       "      <th>type</th>\n",
       "      <th>latlon</th>\n",
       "    </tr>\n",
       "  </thead>\n",
       "  <tbody>\n",
       "    <tr>\n",
       "      <th>0</th>\n",
       "      <td>166934</td>\n",
       "      <td>MCDONALDS 27133</td>\n",
       "      <td>2015-07-13</td>\n",
       "      <td>NaN</td>\n",
       "      <td>2</td>\n",
       "      <td>1 - Restaurant</td>\n",
       "      <td>35.8771424, -78.8509667</td>\n",
       "    </tr>\n",
       "  </tbody>\n",
       "</table>\n",
       "</div>"
      ],
      "text/plain": [
       "       id             name      opened closed  insp_freq            type  \\\n",
       "0  166934  MCDONALDS 27133  2015-07-13    NaN          2  1 - Restaurant   \n",
       "\n",
       "                    latlon  \n",
       "0  35.8771424, -78.8509667  "
      ]
     },
     "execution_count": 60,
     "metadata": {},
     "output_type": "execute_result"
    }
   ],
   "source": [
    "establishments_clean.head(1)"
   ]
  },
  {
   "cell_type": "code",
   "execution_count": 61,
   "metadata": {
    "collapsed": false
   },
   "outputs": [
    {
     "data": {
      "text/plain": [
       "id            int64\n",
       "name         object\n",
       "opened       object\n",
       "closed       object\n",
       "insp_freq     int64\n",
       "type         object\n",
       "latlon       object\n",
       "dtype: object"
      ]
     },
     "execution_count": 61,
     "metadata": {},
     "output_type": "execute_result"
    }
   ],
   "source": [
    "establishments_clean.dtypes"
   ]
  },
  {
   "cell_type": "code",
   "execution_count": 62,
   "metadata": {
    "collapsed": false
   },
   "outputs": [],
   "source": [
    "establishments_clean['opened'] = pd.to_datetime(establishments_clean.opened)\n",
    "establishments_clean['closed'] = pd.to_datetime(establishments_clean.closed)"
   ]
  },
  {
   "cell_type": "code",
   "execution_count": 63,
   "metadata": {
    "collapsed": false
   },
   "outputs": [
    {
     "data": {
      "text/plain": [
       "id                    int64\n",
       "name                 object\n",
       "opened       datetime64[ns]\n",
       "closed       datetime64[ns]\n",
       "insp_freq             int64\n",
       "type                 object\n",
       "latlon               object\n",
       "dtype: object"
      ]
     },
     "execution_count": 63,
     "metadata": {},
     "output_type": "execute_result"
    }
   ],
   "source": [
    "establishments_clean.dtypes"
   ]
  },
  {
   "cell_type": "markdown",
   "metadata": {},
   "source": [
    "## Inspections\n",
    "\n",
    "Keep inspections for these establishments only."
   ]
  },
  {
   "cell_type": "code",
   "execution_count": 64,
   "metadata": {
    "collapsed": false
   },
   "outputs": [],
   "source": [
    "inspections = inspections[inspections.Est_Id.isin(establishments_clean.id)]"
   ]
  },
  {
   "cell_type": "code",
   "execution_count": 65,
   "metadata": {
    "collapsed": false
   },
   "outputs": [
    {
     "data": {
      "text/plain": [
       "34449"
      ]
     },
     "execution_count": 65,
     "metadata": {},
     "output_type": "execute_result"
    }
   ],
   "source": [
    "len(inspections)"
   ]
  },
  {
   "cell_type": "code",
   "execution_count": 66,
   "metadata": {
    "collapsed": false
   },
   "outputs": [
    {
     "data": {
      "text/html": [
       "<div>\n",
       "<table border=\"1\" class=\"dataframe\">\n",
       "  <thead>\n",
       "    <tr style=\"text-align: right;\">\n",
       "      <th></th>\n",
       "      <th>Id</th>\n",
       "      <th>Premise_Name</th>\n",
       "      <th>Premise_City</th>\n",
       "      <th>District</th>\n",
       "      <th>County</th>\n",
       "      <th>Est_Id</th>\n",
       "      <th>State_Id</th>\n",
       "      <th>Request_Number</th>\n",
       "      <th>Ehs_Id</th>\n",
       "      <th>Ehs</th>\n",
       "      <th>Territory</th>\n",
       "      <th>Est_Type</th>\n",
       "      <th>Insp_Type</th>\n",
       "      <th>Insp_Date</th>\n",
       "      <th>Extra_Credit</th>\n",
       "      <th>Grade</th>\n",
       "      <th>Score_SUM</th>\n",
       "      <th>Final_Score_SUM</th>\n",
       "      <th>Seats</th>\n",
       "      <th>Inspection_Time_Hrs</th>\n",
       "      <th>Inspection_Time_Min</th>\n",
       "      <th>Sample</th>\n",
       "      <th>Setup_Date</th>\n",
       "      <th>Update_Date</th>\n",
       "      <th>Update_User_Id</th>\n",
       "      <th>Water</th>\n",
       "      <th>Sewage</th>\n",
       "      <th>Origin</th>\n",
       "      <th>Permit_Status_Id</th>\n",
       "      <th>Permit_Status</th>\n",
       "      <th>Time_Of_Inspection_Hr</th>\n",
       "      <th>Time_Of_Inspection_Mm</th>\n",
       "      <th>Ampm_Of_Inspection</th>\n",
       "      <th>Comments</th>\n",
       "      <th>Six_Point_Demerit</th>\n",
       "      <th>Oss_Id</th>\n",
       "      <th>Rpt_Area_Code</th>\n",
       "      <th>Rpt_Area_Desc</th>\n",
       "      <th>Group_Code_Id</th>\n",
       "      <th>Time_Of_Inspection</th>\n",
       "      <th>Permit_Type_Id</th>\n",
       "      <th>Complaint_Section</th>\n",
       "      <th>Epi_Type_Id</th>\n",
       "      <th>Epi_Type_Desc</th>\n",
       "      <th>Followup_Id</th>\n",
       "      <th>Travel_Time_Hrs</th>\n",
       "      <th>Travel_Time_Min</th>\n",
       "      <th>Mileage</th>\n",
       "      <th>Sample_Attendance</th>\n",
       "      <th>Void_Date</th>\n",
       "      <th>Delete_Mark</th>\n",
       "      <th>Est_Num</th>\n",
       "      <th>Com_Num</th>\n",
       "      <th>Oss_Num</th>\n",
       "      <th>Ehs_Num</th>\n",
       "      <th>Rpt_Area_Num</th>\n",
       "      <th>Est_Type_Num</th>\n",
       "      <th>Cdp_Est_Num</th>\n",
       "      <th>Violations_Id</th>\n",
       "      <th>Field59</th>\n",
       "      <th>Comment_Sheet_Id</th>\n",
       "      <th>Action_Code_Id</th>\n",
       "      <th>Action_Code_Desc</th>\n",
       "      <th>Image_File_Path</th>\n",
       "      <th>Image_File_Name</th>\n",
       "      <th>Chlorine_SUM</th>\n",
       "      <th>Bromine_SUM</th>\n",
       "      <th>Biguanide_SUM</th>\n",
       "      <th>Water_Ph_SUM</th>\n",
       "      <th>Water_Temp_SUM</th>\n",
       "      <th>Smoking_Allowed</th>\n",
       "      <th>Classification_Id</th>\n",
       "      <th>Classification_Desc</th>\n",
       "      <th>End_Time_Of_Inspection_Hh</th>\n",
       "      <th>End_Time_Of_Inspection_Mm</th>\n",
       "      <th>End_Inspection_Ampm</th>\n",
       "      <th>Sent_To_Bets_Yn</th>\n",
       "      <th>Verification_Required_Date</th>\n",
       "      <th>Inspection_Reason_Id</th>\n",
       "      <th>Inspection_Reason_Desc</th>\n",
       "      <th>Num_Rf_Inter_Viol</th>\n",
       "      <th>Num_Repeat_Rf_Inter_Viol</th>\n",
       "      <th>Est_Group_Id</th>\n",
       "      <th>Est_Group_Desc</th>\n",
       "      <th>Person_Incharge_Lname</th>\n",
       "      <th>Person_Incharge_Fname</th>\n",
       "      <th>Type_description</th>\n",
       "      <th>LatLon</th>\n",
       "    </tr>\n",
       "  </thead>\n",
       "  <tbody>\n",
       "    <tr>\n",
       "      <th>106</th>\n",
       "      <td>911494</td>\n",
       "      <td>CAPTAIN D'S</td>\n",
       "      <td>DURHAM</td>\n",
       "      <td>0</td>\n",
       "      <td>32</td>\n",
       "      <td>56936</td>\n",
       "      <td>4032011570</td>\n",
       "      <td>NaN</td>\n",
       "      <td>484</td>\n",
       "      <td>9999</td>\n",
       "      <td>NaN</td>\n",
       "      <td>1</td>\n",
       "      <td>1</td>\n",
       "      <td>2005-07-27</td>\n",
       "      <td>N</td>\n",
       "      <td>A</td>\n",
       "      <td>100</td>\n",
       "      <td>100</td>\n",
       "      <td>NaN</td>\n",
       "      <td>0</td>\n",
       "      <td>0</td>\n",
       "      <td>N</td>\n",
       "      <td>2008-05-22</td>\n",
       "      <td>2014-02-28</td>\n",
       "      <td>NaN</td>\n",
       "      <td>1</td>\n",
       "      <td>1</td>\n",
       "      <td>5</td>\n",
       "      <td>1</td>\n",
       "      <td>NaN</td>\n",
       "      <td>NaN</td>\n",
       "      <td>NaN</td>\n",
       "      <td>NaN</td>\n",
       "      <td>NaN</td>\n",
       "      <td>N</td>\n",
       "      <td>NaN</td>\n",
       "      <td>605</td>\n",
       "      <td>Food Service</td>\n",
       "      <td>1</td>\n",
       "      <td>NaN</td>\n",
       "      <td>NaN</td>\n",
       "      <td>NaN</td>\n",
       "      <td>NaN</td>\n",
       "      <td>NaN</td>\n",
       "      <td>NO</td>\n",
       "      <td>0</td>\n",
       "      <td>0</td>\n",
       "      <td>NaN</td>\n",
       "      <td>NaN</td>\n",
       "      <td>NaN</td>\n",
       "      <td>ACTIVE</td>\n",
       "      <td>4032011570</td>\n",
       "      <td>NaN</td>\n",
       "      <td>NaN</td>\n",
       "      <td>NaN</td>\n",
       "      <td>NaN</td>\n",
       "      <td>NaN</td>\n",
       "      <td>NaN</td>\n",
       "      <td>0</td>\n",
       "      <td>NaN</td>\n",
       "      <td>NO</td>\n",
       "      <td>NaN</td>\n",
       "      <td>NaN</td>\n",
       "      <td>NaN</td>\n",
       "      <td>NaN</td>\n",
       "      <td>NaN</td>\n",
       "      <td>NaN</td>\n",
       "      <td>NaN</td>\n",
       "      <td>NaN</td>\n",
       "      <td>NaN</td>\n",
       "      <td>NaN</td>\n",
       "      <td>NaN</td>\n",
       "      <td>NaN</td>\n",
       "      <td>NaN</td>\n",
       "      <td>NaN</td>\n",
       "      <td>NaN</td>\n",
       "      <td>YES</td>\n",
       "      <td>NaN</td>\n",
       "      <td>NaN</td>\n",
       "      <td>NaN</td>\n",
       "      <td>NaN</td>\n",
       "      <td>NaN</td>\n",
       "      <td>NaN</td>\n",
       "      <td>NaN</td>\n",
       "      <td>NaN</td>\n",
       "      <td>NaN</td>\n",
       "      <td>1 - INSPECTION</td>\n",
       "      <td>36.0552119, -78.9034271</td>\n",
       "    </tr>\n",
       "  </tbody>\n",
       "</table>\n",
       "</div>"
      ],
      "text/plain": [
       "         Id Premise_Name Premise_City  District  County  Est_Id    State_Id  \\\n",
       "106  911494  CAPTAIN D'S       DURHAM         0      32   56936  4032011570   \n",
       "\n",
       "     Request_Number  Ehs_Id   Ehs  Territory  Est_Type  Insp_Type   Insp_Date  \\\n",
       "106             NaN     484  9999        NaN         1          1  2005-07-27   \n",
       "\n",
       "    Extra_Credit Grade  Score_SUM  Final_Score_SUM  Seats  \\\n",
       "106            N     A        100              100    NaN   \n",
       "\n",
       "     Inspection_Time_Hrs  Inspection_Time_Min Sample  Setup_Date Update_Date  \\\n",
       "106                    0                    0      N  2008-05-22  2014-02-28   \n",
       "\n",
       "     Update_User_Id  Water  Sewage  Origin  Permit_Status_Id  Permit_Status  \\\n",
       "106             NaN      1       1       5                 1            NaN   \n",
       "\n",
       "     Time_Of_Inspection_Hr  Time_Of_Inspection_Mm Ampm_Of_Inspection Comments  \\\n",
       "106                    NaN                    NaN                NaN      NaN   \n",
       "\n",
       "    Six_Point_Demerit  Oss_Id  Rpt_Area_Code Rpt_Area_Desc  Group_Code_Id  \\\n",
       "106                 N     NaN            605  Food Service              1   \n",
       "\n",
       "     Time_Of_Inspection  Permit_Type_Id  Complaint_Section  Epi_Type_Id  \\\n",
       "106                 NaN             NaN                NaN          NaN   \n",
       "\n",
       "     Epi_Type_Desc Followup_Id  Travel_Time_Hrs  Travel_Time_Min  Mileage  \\\n",
       "106            NaN          NO                0                0      NaN   \n",
       "\n",
       "     Sample_Attendance  Void_Date Delete_Mark     Est_Num  Com_Num  Oss_Num  \\\n",
       "106                NaN        NaN      ACTIVE  4032011570      NaN      NaN   \n",
       "\n",
       "     Ehs_Num  Rpt_Area_Num  Est_Type_Num  Cdp_Est_Num  Violations_Id  Field59  \\\n",
       "106      NaN           NaN           NaN          NaN              0      NaN   \n",
       "\n",
       "    Comment_Sheet_Id  Action_Code_Id  Action_Code_Desc Image_File_Path  \\\n",
       "106               NO             NaN               NaN             NaN   \n",
       "\n",
       "    Image_File_Name  Chlorine_SUM  Bromine_SUM  Biguanide_SUM  Water_Ph_SUM  \\\n",
       "106             NaN           NaN          NaN            NaN           NaN   \n",
       "\n",
       "     Water_Temp_SUM Smoking_Allowed  Classification_Id Classification_Desc  \\\n",
       "106             NaN             NaN                NaN                 NaN   \n",
       "\n",
       "     End_Time_Of_Inspection_Hh  End_Time_Of_Inspection_Mm End_Inspection_Ampm  \\\n",
       "106                        NaN                        NaN                 NaN   \n",
       "\n",
       "    Sent_To_Bets_Yn Verification_Required_Date  Inspection_Reason_Id  \\\n",
       "106             YES                        NaN                   NaN   \n",
       "\n",
       "    Inspection_Reason_Desc  Num_Rf_Inter_Viol  Num_Repeat_Rf_Inter_Viol  \\\n",
       "106                    NaN                NaN                       NaN   \n",
       "\n",
       "     Est_Group_Id Est_Group_Desc Person_Incharge_Lname Person_Incharge_Fname  \\\n",
       "106           NaN            NaN                   NaN                   NaN   \n",
       "\n",
       "    Type_description                   LatLon  \n",
       "106   1 - INSPECTION  36.0552119, -78.9034271  "
      ]
     },
     "execution_count": 66,
     "metadata": {},
     "output_type": "execute_result"
    }
   ],
   "source": [
    "inspections.head(1)"
   ]
  },
  {
   "cell_type": "code",
   "execution_count": 67,
   "metadata": {
    "collapsed": true
   },
   "outputs": [],
   "source": [
    "to_keep = OrderedDict()\n",
    "to_keep['Id'] = 'id'\n",
    "to_keep['Est_Id'] = 'est_id'\n",
    "to_keep['Insp_Date'] = 'date'\n",
    "to_keep['Extra_Credit'] = 'extra_credit'\n",
    "to_keep['Grade'] = 'grade'\n",
    "to_keep['Score_SUM'] = 'score'\n",
    "to_keep['Final_Score_SUM'] = 'final_score'\n",
    "to_keep['Type_description'] = 'type'"
   ]
  },
  {
   "cell_type": "code",
   "execution_count": 68,
   "metadata": {
    "collapsed": true
   },
   "outputs": [],
   "source": [
    "inspections_clean = inspections[list(to_keep.keys())].rename(columns=to_keep).reset_index(drop=True)"
   ]
  },
  {
   "cell_type": "code",
   "execution_count": 69,
   "metadata": {
    "collapsed": false
   },
   "outputs": [
    {
     "data": {
      "text/html": [
       "<div>\n",
       "<table border=\"1\" class=\"dataframe\">\n",
       "  <thead>\n",
       "    <tr style=\"text-align: right;\">\n",
       "      <th></th>\n",
       "      <th>id</th>\n",
       "      <th>est_id</th>\n",
       "      <th>date</th>\n",
       "      <th>extra_credit</th>\n",
       "      <th>grade</th>\n",
       "      <th>score</th>\n",
       "      <th>final_score</th>\n",
       "      <th>type</th>\n",
       "    </tr>\n",
       "  </thead>\n",
       "  <tbody>\n",
       "    <tr>\n",
       "      <th>0</th>\n",
       "      <td>911494</td>\n",
       "      <td>56936</td>\n",
       "      <td>2005-07-27</td>\n",
       "      <td>N</td>\n",
       "      <td>A</td>\n",
       "      <td>100</td>\n",
       "      <td>100</td>\n",
       "      <td>1 - INSPECTION</td>\n",
       "    </tr>\n",
       "  </tbody>\n",
       "</table>\n",
       "</div>"
      ],
      "text/plain": [
       "       id  est_id        date extra_credit grade  score  final_score  \\\n",
       "0  911494   56936  2005-07-27            N     A    100          100   \n",
       "\n",
       "             type  \n",
       "0  1 - INSPECTION  "
      ]
     },
     "execution_count": 69,
     "metadata": {},
     "output_type": "execute_result"
    }
   ],
   "source": [
    "inspections_clean.head(1)"
   ]
  },
  {
   "cell_type": "code",
   "execution_count": 70,
   "metadata": {
    "collapsed": false
   },
   "outputs": [
    {
     "data": {
      "text/plain": [
       "id                int64\n",
       "est_id            int64\n",
       "date             object\n",
       "extra_credit     object\n",
       "grade            object\n",
       "score           float64\n",
       "final_score     float64\n",
       "type             object\n",
       "dtype: object"
      ]
     },
     "execution_count": 70,
     "metadata": {},
     "output_type": "execute_result"
    }
   ],
   "source": [
    "inspections_clean.dtypes"
   ]
  },
  {
   "cell_type": "code",
   "execution_count": 71,
   "metadata": {
    "collapsed": false
   },
   "outputs": [],
   "source": [
    "inspections_clean['date'] = pd.to_datetime(inspections_clean.date)"
   ]
  },
  {
   "cell_type": "code",
   "execution_count": 72,
   "metadata": {
    "collapsed": false
   },
   "outputs": [
    {
     "data": {
      "text/plain": [
       "id                       int64\n",
       "est_id                   int64\n",
       "date            datetime64[ns]\n",
       "extra_credit            object\n",
       "grade                   object\n",
       "score                  float64\n",
       "final_score            float64\n",
       "type                    object\n",
       "dtype: object"
      ]
     },
     "execution_count": 72,
     "metadata": {},
     "output_type": "execute_result"
    }
   ],
   "source": [
    "inspections_clean.dtypes"
   ]
  },
  {
   "cell_type": "code",
   "execution_count": 73,
   "metadata": {
    "collapsed": false
   },
   "outputs": [
    {
     "data": {
      "text/html": [
       "<div>\n",
       "<table border=\"1\" class=\"dataframe\">\n",
       "  <thead>\n",
       "    <tr style=\"text-align: right;\">\n",
       "      <th></th>\n",
       "      <th>id</th>\n",
       "      <th>est_id</th>\n",
       "      <th>date</th>\n",
       "      <th>extra_credit</th>\n",
       "      <th>grade</th>\n",
       "      <th>score</th>\n",
       "      <th>final_score</th>\n",
       "      <th>type</th>\n",
       "    </tr>\n",
       "  </thead>\n",
       "  <tbody>\n",
       "    <tr>\n",
       "      <th>122</th>\n",
       "      <td>881675</td>\n",
       "      <td>55474</td>\n",
       "      <td>1991-07-02</td>\n",
       "      <td>N</td>\n",
       "      <td>NaN</td>\n",
       "      <td>0</td>\n",
       "      <td>0</td>\n",
       "      <td>P - PERMIT</td>\n",
       "    </tr>\n",
       "    <tr>\n",
       "      <th>123</th>\n",
       "      <td>881678</td>\n",
       "      <td>55474</td>\n",
       "      <td>1992-02-03</td>\n",
       "      <td>N</td>\n",
       "      <td>NaN</td>\n",
       "      <td>0</td>\n",
       "      <td>0</td>\n",
       "      <td>1 - INSPECTION</td>\n",
       "    </tr>\n",
       "    <tr>\n",
       "      <th>124</th>\n",
       "      <td>881679</td>\n",
       "      <td>55474</td>\n",
       "      <td>1992-04-08</td>\n",
       "      <td>N</td>\n",
       "      <td>NaN</td>\n",
       "      <td>0</td>\n",
       "      <td>0</td>\n",
       "      <td>1 - INSPECTION</td>\n",
       "    </tr>\n",
       "    <tr>\n",
       "      <th>125</th>\n",
       "      <td>881680</td>\n",
       "      <td>55474</td>\n",
       "      <td>1992-07-07</td>\n",
       "      <td>N</td>\n",
       "      <td>NaN</td>\n",
       "      <td>0</td>\n",
       "      <td>0</td>\n",
       "      <td>1 - INSPECTION</td>\n",
       "    </tr>\n",
       "    <tr>\n",
       "      <th>126</th>\n",
       "      <td>881682</td>\n",
       "      <td>55474</td>\n",
       "      <td>1993-02-03</td>\n",
       "      <td>N</td>\n",
       "      <td>NaN</td>\n",
       "      <td>0</td>\n",
       "      <td>0</td>\n",
       "      <td>1 - INSPECTION</td>\n",
       "    </tr>\n",
       "    <tr>\n",
       "      <th>127</th>\n",
       "      <td>881696</td>\n",
       "      <td>55474</td>\n",
       "      <td>1996-10-14</td>\n",
       "      <td>N</td>\n",
       "      <td>NaN</td>\n",
       "      <td>0</td>\n",
       "      <td>0</td>\n",
       "      <td>1 - INSPECTION</td>\n",
       "    </tr>\n",
       "    <tr>\n",
       "      <th>128</th>\n",
       "      <td>881704</td>\n",
       "      <td>55474</td>\n",
       "      <td>1999-08-04</td>\n",
       "      <td>Y</td>\n",
       "      <td>A</td>\n",
       "      <td>100</td>\n",
       "      <td>102</td>\n",
       "      <td>1 - INSPECTION</td>\n",
       "    </tr>\n",
       "    <tr>\n",
       "      <th>133</th>\n",
       "      <td>881744</td>\n",
       "      <td>55475</td>\n",
       "      <td>1993-03-17</td>\n",
       "      <td>N</td>\n",
       "      <td>NaN</td>\n",
       "      <td>0</td>\n",
       "      <td>0</td>\n",
       "      <td>1 - INSPECTION</td>\n",
       "    </tr>\n",
       "    <tr>\n",
       "      <th>134</th>\n",
       "      <td>881759</td>\n",
       "      <td>55475</td>\n",
       "      <td>1996-04-10</td>\n",
       "      <td>N</td>\n",
       "      <td>NaN</td>\n",
       "      <td>0</td>\n",
       "      <td>0</td>\n",
       "      <td>1 - INSPECTION</td>\n",
       "    </tr>\n",
       "    <tr>\n",
       "      <th>135</th>\n",
       "      <td>881761</td>\n",
       "      <td>55475</td>\n",
       "      <td>1996-10-04</td>\n",
       "      <td>N</td>\n",
       "      <td>NaN</td>\n",
       "      <td>0</td>\n",
       "      <td>0</td>\n",
       "      <td>1 - INSPECTION</td>\n",
       "    </tr>\n",
       "    <tr>\n",
       "      <th>136</th>\n",
       "      <td>881768</td>\n",
       "      <td>55475</td>\n",
       "      <td>1998-12-01</td>\n",
       "      <td>N</td>\n",
       "      <td>A</td>\n",
       "      <td>100</td>\n",
       "      <td>100</td>\n",
       "      <td>1 - INSPECTION</td>\n",
       "    </tr>\n",
       "    <tr>\n",
       "      <th>143</th>\n",
       "      <td>881980</td>\n",
       "      <td>55481</td>\n",
       "      <td>1993-02-09</td>\n",
       "      <td>N</td>\n",
       "      <td>NaN</td>\n",
       "      <td>0</td>\n",
       "      <td>0</td>\n",
       "      <td>1 - INSPECTION</td>\n",
       "    </tr>\n",
       "    <tr>\n",
       "      <th>144</th>\n",
       "      <td>881981</td>\n",
       "      <td>55481</td>\n",
       "      <td>1993-06-15</td>\n",
       "      <td>N</td>\n",
       "      <td>NaN</td>\n",
       "      <td>0</td>\n",
       "      <td>0</td>\n",
       "      <td>1 - INSPECTION</td>\n",
       "    </tr>\n",
       "    <tr>\n",
       "      <th>145</th>\n",
       "      <td>881993</td>\n",
       "      <td>55481</td>\n",
       "      <td>1996-10-03</td>\n",
       "      <td>N</td>\n",
       "      <td>NaN</td>\n",
       "      <td>0</td>\n",
       "      <td>0</td>\n",
       "      <td>1 - INSPECTION</td>\n",
       "    </tr>\n",
       "    <tr>\n",
       "      <th>146</th>\n",
       "      <td>881997</td>\n",
       "      <td>55481</td>\n",
       "      <td>1997-12-19</td>\n",
       "      <td>N</td>\n",
       "      <td>NaN</td>\n",
       "      <td>0</td>\n",
       "      <td>0</td>\n",
       "      <td>1 - INSPECTION</td>\n",
       "    </tr>\n",
       "    <tr>\n",
       "      <th>155</th>\n",
       "      <td>881180</td>\n",
       "      <td>55461</td>\n",
       "      <td>1991-10-08</td>\n",
       "      <td>N</td>\n",
       "      <td>NaN</td>\n",
       "      <td>0</td>\n",
       "      <td>0</td>\n",
       "      <td>1 - INSPECTION</td>\n",
       "    </tr>\n",
       "    <tr>\n",
       "      <th>156</th>\n",
       "      <td>881181</td>\n",
       "      <td>55461</td>\n",
       "      <td>1992-03-05</td>\n",
       "      <td>N</td>\n",
       "      <td>NaN</td>\n",
       "      <td>0</td>\n",
       "      <td>0</td>\n",
       "      <td>1 - INSPECTION</td>\n",
       "    </tr>\n",
       "    <tr>\n",
       "      <th>157</th>\n",
       "      <td>881188</td>\n",
       "      <td>55461</td>\n",
       "      <td>1994-01-18</td>\n",
       "      <td>N</td>\n",
       "      <td>NaN</td>\n",
       "      <td>0</td>\n",
       "      <td>0</td>\n",
       "      <td>1 - INSPECTION</td>\n",
       "    </tr>\n",
       "    <tr>\n",
       "      <th>158</th>\n",
       "      <td>881194</td>\n",
       "      <td>55461</td>\n",
       "      <td>1995-07-14</td>\n",
       "      <td>N</td>\n",
       "      <td>A</td>\n",
       "      <td>100</td>\n",
       "      <td>100</td>\n",
       "      <td>1 - INSPECTION</td>\n",
       "    </tr>\n",
       "    <tr>\n",
       "      <th>159</th>\n",
       "      <td>881196</td>\n",
       "      <td>55461</td>\n",
       "      <td>1996-01-09</td>\n",
       "      <td>N</td>\n",
       "      <td>A</td>\n",
       "      <td>100</td>\n",
       "      <td>100</td>\n",
       "      <td>1 - INSPECTION</td>\n",
       "    </tr>\n",
       "    <tr>\n",
       "      <th>160</th>\n",
       "      <td>881200</td>\n",
       "      <td>55461</td>\n",
       "      <td>1997-01-28</td>\n",
       "      <td>N</td>\n",
       "      <td>NaN</td>\n",
       "      <td>0</td>\n",
       "      <td>0</td>\n",
       "      <td>1 - INSPECTION</td>\n",
       "    </tr>\n",
       "    <tr>\n",
       "      <th>166</th>\n",
       "      <td>881354</td>\n",
       "      <td>55468</td>\n",
       "      <td>1991-11-04</td>\n",
       "      <td>N</td>\n",
       "      <td>NaN</td>\n",
       "      <td>0</td>\n",
       "      <td>0</td>\n",
       "      <td>1 - INSPECTION</td>\n",
       "    </tr>\n",
       "    <tr>\n",
       "      <th>167</th>\n",
       "      <td>881360</td>\n",
       "      <td>55468</td>\n",
       "      <td>1993-07-08</td>\n",
       "      <td>N</td>\n",
       "      <td>NaN</td>\n",
       "      <td>0</td>\n",
       "      <td>0</td>\n",
       "      <td>1 - INSPECTION</td>\n",
       "    </tr>\n",
       "    <tr>\n",
       "      <th>168</th>\n",
       "      <td>881362</td>\n",
       "      <td>55468</td>\n",
       "      <td>1994-05-27</td>\n",
       "      <td>N</td>\n",
       "      <td>NaN</td>\n",
       "      <td>0</td>\n",
       "      <td>0</td>\n",
       "      <td>1 - INSPECTION</td>\n",
       "    </tr>\n",
       "    <tr>\n",
       "      <th>169</th>\n",
       "      <td>881364</td>\n",
       "      <td>55468</td>\n",
       "      <td>1994-10-17</td>\n",
       "      <td>N</td>\n",
       "      <td>NaN</td>\n",
       "      <td>0</td>\n",
       "      <td>0</td>\n",
       "      <td>1 - INSPECTION</td>\n",
       "    </tr>\n",
       "    <tr>\n",
       "      <th>170</th>\n",
       "      <td>881375</td>\n",
       "      <td>55468</td>\n",
       "      <td>1997-06-04</td>\n",
       "      <td>N</td>\n",
       "      <td>NaN</td>\n",
       "      <td>0</td>\n",
       "      <td>0</td>\n",
       "      <td>1 - INSPECTION</td>\n",
       "    </tr>\n",
       "    <tr>\n",
       "      <th>171</th>\n",
       "      <td>881378</td>\n",
       "      <td>55468</td>\n",
       "      <td>1998-11-18</td>\n",
       "      <td>N</td>\n",
       "      <td>A</td>\n",
       "      <td>100</td>\n",
       "      <td>100</td>\n",
       "      <td>1 - INSPECTION</td>\n",
       "    </tr>\n",
       "    <tr>\n",
       "      <th>175</th>\n",
       "      <td>881437</td>\n",
       "      <td>55470</td>\n",
       "      <td>1993-04-20</td>\n",
       "      <td>N</td>\n",
       "      <td>NaN</td>\n",
       "      <td>0</td>\n",
       "      <td>0</td>\n",
       "      <td>1 - INSPECTION</td>\n",
       "    </tr>\n",
       "    <tr>\n",
       "      <th>176</th>\n",
       "      <td>881439</td>\n",
       "      <td>55470</td>\n",
       "      <td>1993-10-07</td>\n",
       "      <td>N</td>\n",
       "      <td>NaN</td>\n",
       "      <td>0</td>\n",
       "      <td>0</td>\n",
       "      <td>1 - INSPECTION</td>\n",
       "    </tr>\n",
       "    <tr>\n",
       "      <th>177</th>\n",
       "      <td>881441</td>\n",
       "      <td>55470</td>\n",
       "      <td>1994-05-19</td>\n",
       "      <td>N</td>\n",
       "      <td>NaN</td>\n",
       "      <td>0</td>\n",
       "      <td>0</td>\n",
       "      <td>1 - INSPECTION</td>\n",
       "    </tr>\n",
       "    <tr>\n",
       "      <th>178</th>\n",
       "      <td>881443</td>\n",
       "      <td>55470</td>\n",
       "      <td>1994-11-17</td>\n",
       "      <td>N</td>\n",
       "      <td>NaN</td>\n",
       "      <td>0</td>\n",
       "      <td>0</td>\n",
       "      <td>1 - INSPECTION</td>\n",
       "    </tr>\n",
       "    <tr>\n",
       "      <th>179</th>\n",
       "      <td>881444</td>\n",
       "      <td>55470</td>\n",
       "      <td>1995-03-16</td>\n",
       "      <td>N</td>\n",
       "      <td>NaN</td>\n",
       "      <td>0</td>\n",
       "      <td>0</td>\n",
       "      <td>1 - INSPECTION</td>\n",
       "    </tr>\n",
       "    <tr>\n",
       "      <th>180</th>\n",
       "      <td>881445</td>\n",
       "      <td>55470</td>\n",
       "      <td>1995-06-26</td>\n",
       "      <td>N</td>\n",
       "      <td>A</td>\n",
       "      <td>100</td>\n",
       "      <td>100</td>\n",
       "      <td>1 - INSPECTION</td>\n",
       "    </tr>\n",
       "    <tr>\n",
       "      <th>181</th>\n",
       "      <td>881447</td>\n",
       "      <td>55470</td>\n",
       "      <td>1995-10-25</td>\n",
       "      <td>N</td>\n",
       "      <td>A</td>\n",
       "      <td>100</td>\n",
       "      <td>100</td>\n",
       "      <td>1 - INSPECTION</td>\n",
       "    </tr>\n",
       "    <tr>\n",
       "      <th>182</th>\n",
       "      <td>881452</td>\n",
       "      <td>55470</td>\n",
       "      <td>1997-01-21</td>\n",
       "      <td>N</td>\n",
       "      <td>NaN</td>\n",
       "      <td>0</td>\n",
       "      <td>0</td>\n",
       "      <td>1 - INSPECTION</td>\n",
       "    </tr>\n",
       "    <tr>\n",
       "      <th>183</th>\n",
       "      <td>881454</td>\n",
       "      <td>55470</td>\n",
       "      <td>1997-07-23</td>\n",
       "      <td>N</td>\n",
       "      <td>NaN</td>\n",
       "      <td>0</td>\n",
       "      <td>0</td>\n",
       "      <td>1 - INSPECTION</td>\n",
       "    </tr>\n",
       "    <tr>\n",
       "      <th>191</th>\n",
       "      <td>881499</td>\n",
       "      <td>55471</td>\n",
       "      <td>1992-07-21</td>\n",
       "      <td>N</td>\n",
       "      <td>NaN</td>\n",
       "      <td>0</td>\n",
       "      <td>0</td>\n",
       "      <td>1 - INSPECTION</td>\n",
       "    </tr>\n",
       "    <tr>\n",
       "      <th>192</th>\n",
       "      <td>881506</td>\n",
       "      <td>55471</td>\n",
       "      <td>1994-02-01</td>\n",
       "      <td>N</td>\n",
       "      <td>NaN</td>\n",
       "      <td>0</td>\n",
       "      <td>0</td>\n",
       "      <td>1 - INSPECTION</td>\n",
       "    </tr>\n",
       "    <tr>\n",
       "      <th>193</th>\n",
       "      <td>881513</td>\n",
       "      <td>55471</td>\n",
       "      <td>1995-10-24</td>\n",
       "      <td>N</td>\n",
       "      <td>A</td>\n",
       "      <td>100</td>\n",
       "      <td>100</td>\n",
       "      <td>1 - INSPECTION</td>\n",
       "    </tr>\n",
       "    <tr>\n",
       "      <th>194</th>\n",
       "      <td>881514</td>\n",
       "      <td>55471</td>\n",
       "      <td>1996-02-29</td>\n",
       "      <td>N</td>\n",
       "      <td>NaN</td>\n",
       "      <td>0</td>\n",
       "      <td>0</td>\n",
       "      <td>1 - INSPECTION</td>\n",
       "    </tr>\n",
       "    <tr>\n",
       "      <th>195</th>\n",
       "      <td>881517</td>\n",
       "      <td>55471</td>\n",
       "      <td>1996-11-15</td>\n",
       "      <td>N</td>\n",
       "      <td>NaN</td>\n",
       "      <td>0</td>\n",
       "      <td>0</td>\n",
       "      <td>1 - INSPECTION</td>\n",
       "    </tr>\n",
       "    <tr>\n",
       "      <th>196</th>\n",
       "      <td>881523</td>\n",
       "      <td>55471</td>\n",
       "      <td>1998-09-30</td>\n",
       "      <td>N</td>\n",
       "      <td>NaN</td>\n",
       "      <td>0</td>\n",
       "      <td>0</td>\n",
       "      <td>1 - INSPECTION</td>\n",
       "    </tr>\n",
       "    <tr>\n",
       "      <th>200</th>\n",
       "      <td>881557</td>\n",
       "      <td>55472</td>\n",
       "      <td>1991-08-06</td>\n",
       "      <td>N</td>\n",
       "      <td>NaN</td>\n",
       "      <td>0</td>\n",
       "      <td>0</td>\n",
       "      <td>P - PERMIT</td>\n",
       "    </tr>\n",
       "    <tr>\n",
       "      <th>201</th>\n",
       "      <td>881558</td>\n",
       "      <td>55472</td>\n",
       "      <td>1991-08-07</td>\n",
       "      <td>N</td>\n",
       "      <td>NaN</td>\n",
       "      <td>0</td>\n",
       "      <td>0</td>\n",
       "      <td>1 - INSPECTION</td>\n",
       "    </tr>\n",
       "    <tr>\n",
       "      <th>202</th>\n",
       "      <td>881571</td>\n",
       "      <td>55472</td>\n",
       "      <td>1994-10-25</td>\n",
       "      <td>N</td>\n",
       "      <td>NaN</td>\n",
       "      <td>0</td>\n",
       "      <td>0</td>\n",
       "      <td>1 - INSPECTION</td>\n",
       "    </tr>\n",
       "    <tr>\n",
       "      <th>203</th>\n",
       "      <td>881572</td>\n",
       "      <td>55472</td>\n",
       "      <td>1995-01-26</td>\n",
       "      <td>N</td>\n",
       "      <td>NaN</td>\n",
       "      <td>0</td>\n",
       "      <td>0</td>\n",
       "      <td>1 - INSPECTION</td>\n",
       "    </tr>\n",
       "    <tr>\n",
       "      <th>204</th>\n",
       "      <td>881583</td>\n",
       "      <td>55472</td>\n",
       "      <td>1998-01-22</td>\n",
       "      <td>N</td>\n",
       "      <td>NaN</td>\n",
       "      <td>0</td>\n",
       "      <td>0</td>\n",
       "      <td>1 - INSPECTION</td>\n",
       "    </tr>\n",
       "    <tr>\n",
       "      <th>205</th>\n",
       "      <td>881584</td>\n",
       "      <td>55472</td>\n",
       "      <td>1998-05-08</td>\n",
       "      <td>N</td>\n",
       "      <td>NaN</td>\n",
       "      <td>0</td>\n",
       "      <td>0</td>\n",
       "      <td>1 - INSPECTION</td>\n",
       "    </tr>\n",
       "    <tr>\n",
       "      <th>206</th>\n",
       "      <td>881586</td>\n",
       "      <td>55472</td>\n",
       "      <td>1999-07-27</td>\n",
       "      <td>N</td>\n",
       "      <td>A</td>\n",
       "      <td>100</td>\n",
       "      <td>100</td>\n",
       "      <td>1 - INSPECTION</td>\n",
       "    </tr>\n",
       "    <tr>\n",
       "      <th>327</th>\n",
       "      <td>882215</td>\n",
       "      <td>55486</td>\n",
       "      <td>1991-07-17</td>\n",
       "      <td>N</td>\n",
       "      <td>NaN</td>\n",
       "      <td>0</td>\n",
       "      <td>0</td>\n",
       "      <td>1 - INSPECTION</td>\n",
       "    </tr>\n",
       "  </tbody>\n",
       "</table>\n",
       "</div>"
      ],
      "text/plain": [
       "         id  est_id       date extra_credit grade  score  final_score  \\\n",
       "122  881675   55474 1991-07-02            N   NaN      0            0   \n",
       "123  881678   55474 1992-02-03            N   NaN      0            0   \n",
       "124  881679   55474 1992-04-08            N   NaN      0            0   \n",
       "125  881680   55474 1992-07-07            N   NaN      0            0   \n",
       "126  881682   55474 1993-02-03            N   NaN      0            0   \n",
       "127  881696   55474 1996-10-14            N   NaN      0            0   \n",
       "128  881704   55474 1999-08-04            Y     A    100          102   \n",
       "133  881744   55475 1993-03-17            N   NaN      0            0   \n",
       "134  881759   55475 1996-04-10            N   NaN      0            0   \n",
       "135  881761   55475 1996-10-04            N   NaN      0            0   \n",
       "136  881768   55475 1998-12-01            N     A    100          100   \n",
       "143  881980   55481 1993-02-09            N   NaN      0            0   \n",
       "144  881981   55481 1993-06-15            N   NaN      0            0   \n",
       "145  881993   55481 1996-10-03            N   NaN      0            0   \n",
       "146  881997   55481 1997-12-19            N   NaN      0            0   \n",
       "155  881180   55461 1991-10-08            N   NaN      0            0   \n",
       "156  881181   55461 1992-03-05            N   NaN      0            0   \n",
       "157  881188   55461 1994-01-18            N   NaN      0            0   \n",
       "158  881194   55461 1995-07-14            N     A    100          100   \n",
       "159  881196   55461 1996-01-09            N     A    100          100   \n",
       "160  881200   55461 1997-01-28            N   NaN      0            0   \n",
       "166  881354   55468 1991-11-04            N   NaN      0            0   \n",
       "167  881360   55468 1993-07-08            N   NaN      0            0   \n",
       "168  881362   55468 1994-05-27            N   NaN      0            0   \n",
       "169  881364   55468 1994-10-17            N   NaN      0            0   \n",
       "170  881375   55468 1997-06-04            N   NaN      0            0   \n",
       "171  881378   55468 1998-11-18            N     A    100          100   \n",
       "175  881437   55470 1993-04-20            N   NaN      0            0   \n",
       "176  881439   55470 1993-10-07            N   NaN      0            0   \n",
       "177  881441   55470 1994-05-19            N   NaN      0            0   \n",
       "178  881443   55470 1994-11-17            N   NaN      0            0   \n",
       "179  881444   55470 1995-03-16            N   NaN      0            0   \n",
       "180  881445   55470 1995-06-26            N     A    100          100   \n",
       "181  881447   55470 1995-10-25            N     A    100          100   \n",
       "182  881452   55470 1997-01-21            N   NaN      0            0   \n",
       "183  881454   55470 1997-07-23            N   NaN      0            0   \n",
       "191  881499   55471 1992-07-21            N   NaN      0            0   \n",
       "192  881506   55471 1994-02-01            N   NaN      0            0   \n",
       "193  881513   55471 1995-10-24            N     A    100          100   \n",
       "194  881514   55471 1996-02-29            N   NaN      0            0   \n",
       "195  881517   55471 1996-11-15            N   NaN      0            0   \n",
       "196  881523   55471 1998-09-30            N   NaN      0            0   \n",
       "200  881557   55472 1991-08-06            N   NaN      0            0   \n",
       "201  881558   55472 1991-08-07            N   NaN      0            0   \n",
       "202  881571   55472 1994-10-25            N   NaN      0            0   \n",
       "203  881572   55472 1995-01-26            N   NaN      0            0   \n",
       "204  881583   55472 1998-01-22            N   NaN      0            0   \n",
       "205  881584   55472 1998-05-08            N   NaN      0            0   \n",
       "206  881586   55472 1999-07-27            N     A    100          100   \n",
       "327  882215   55486 1991-07-17            N   NaN      0            0   \n",
       "\n",
       "               type  \n",
       "122      P - PERMIT  \n",
       "123  1 - INSPECTION  \n",
       "124  1 - INSPECTION  \n",
       "125  1 - INSPECTION  \n",
       "126  1 - INSPECTION  \n",
       "127  1 - INSPECTION  \n",
       "128  1 - INSPECTION  \n",
       "133  1 - INSPECTION  \n",
       "134  1 - INSPECTION  \n",
       "135  1 - INSPECTION  \n",
       "136  1 - INSPECTION  \n",
       "143  1 - INSPECTION  \n",
       "144  1 - INSPECTION  \n",
       "145  1 - INSPECTION  \n",
       "146  1 - INSPECTION  \n",
       "155  1 - INSPECTION  \n",
       "156  1 - INSPECTION  \n",
       "157  1 - INSPECTION  \n",
       "158  1 - INSPECTION  \n",
       "159  1 - INSPECTION  \n",
       "160  1 - INSPECTION  \n",
       "166  1 - INSPECTION  \n",
       "167  1 - INSPECTION  \n",
       "168  1 - INSPECTION  \n",
       "169  1 - INSPECTION  \n",
       "170  1 - INSPECTION  \n",
       "171  1 - INSPECTION  \n",
       "175  1 - INSPECTION  \n",
       "176  1 - INSPECTION  \n",
       "177  1 - INSPECTION  \n",
       "178  1 - INSPECTION  \n",
       "179  1 - INSPECTION  \n",
       "180  1 - INSPECTION  \n",
       "181  1 - INSPECTION  \n",
       "182  1 - INSPECTION  \n",
       "183  1 - INSPECTION  \n",
       "191  1 - INSPECTION  \n",
       "192  1 - INSPECTION  \n",
       "193  1 - INSPECTION  \n",
       "194  1 - INSPECTION  \n",
       "195  1 - INSPECTION  \n",
       "196  1 - INSPECTION  \n",
       "200      P - PERMIT  \n",
       "201  1 - INSPECTION  \n",
       "202  1 - INSPECTION  \n",
       "203  1 - INSPECTION  \n",
       "204  1 - INSPECTION  \n",
       "205  1 - INSPECTION  \n",
       "206  1 - INSPECTION  \n",
       "327  1 - INSPECTION  "
      ]
     },
     "execution_count": 73,
     "metadata": {},
     "output_type": "execute_result"
    }
   ],
   "source": [
    "inspections_clean[inspections_clean['date'] < datetime(2000, 1, 1)].head(50)"
   ]
  },
  {
   "cell_type": "markdown",
   "metadata": {},
   "source": [
    "The inspection data from before year 2000 is primarily zeros. Let's start in Y2K."
   ]
  },
  {
   "cell_type": "code",
   "execution_count": 74,
   "metadata": {
    "collapsed": false
   },
   "outputs": [],
   "source": [
    "inspections_clean = inspections_clean[inspections_clean.date > datetime(2000, 1, 1)]"
   ]
  },
  {
   "cell_type": "markdown",
   "metadata": {},
   "source": [
    "## Violations\n",
    "\n",
    "Keep violations for these inspections alone."
   ]
  },
  {
   "cell_type": "code",
   "execution_count": 75,
   "metadata": {
    "collapsed": false
   },
   "outputs": [
    {
     "data": {
      "text/plain": [
       "152098"
      ]
     },
     "execution_count": 75,
     "metadata": {},
     "output_type": "execute_result"
    }
   ],
   "source": [
    "len(violations)"
   ]
  },
  {
   "cell_type": "code",
   "execution_count": 76,
   "metadata": {
    "collapsed": true
   },
   "outputs": [],
   "source": [
    "violations = violations[violations.Inspection_Id.isin(inspections_clean.id)]"
   ]
  },
  {
   "cell_type": "code",
   "execution_count": 77,
   "metadata": {
    "collapsed": false
   },
   "outputs": [
    {
     "data": {
      "text/plain": [
       "101299"
      ]
     },
     "execution_count": 77,
     "metadata": {},
     "output_type": "execute_result"
    }
   ],
   "source": [
    "len(violations)"
   ]
  },
  {
   "cell_type": "code",
   "execution_count": 78,
   "metadata": {
    "collapsed": false
   },
   "outputs": [
    {
     "data": {
      "text/html": [
       "<div>\n",
       "<table border=\"1\" class=\"dataframe\">\n",
       "  <thead>\n",
       "    <tr style=\"text-align: right;\">\n",
       "      <th></th>\n",
       "      <th>Id</th>\n",
       "      <th>Inspection_Id</th>\n",
       "      <th>Item</th>\n",
       "      <th>Weight_SUM</th>\n",
       "      <th>Critical</th>\n",
       "      <th>Comments</th>\n",
       "      <th>Rpt_Area_Desc</th>\n",
       "    </tr>\n",
       "  </thead>\n",
       "  <tbody>\n",
       "    <tr>\n",
       "      <th>2</th>\n",
       "      <td>730091</td>\n",
       "      <td>946069</td>\n",
       "      <td>14</td>\n",
       "      <td>1</td>\n",
       "      <td>N</td>\n",
       "      <td>White plastic grocery bags not food grade and ...</td>\n",
       "      <td>NaN</td>\n",
       "    </tr>\n",
       "  </tbody>\n",
       "</table>\n",
       "</div>"
      ],
      "text/plain": [
       "       Id  Inspection_Id  Item  Weight_SUM Critical  \\\n",
       "2  730091         946069    14           1        N   \n",
       "\n",
       "                                            Comments Rpt_Area_Desc  \n",
       "2  White plastic grocery bags not food grade and ...           NaN  "
      ]
     },
     "execution_count": 78,
     "metadata": {},
     "output_type": "execute_result"
    }
   ],
   "source": [
    "violations.head(1)"
   ]
  },
  {
   "cell_type": "code",
   "execution_count": 79,
   "metadata": {
    "collapsed": true
   },
   "outputs": [],
   "source": [
    "to_keep = OrderedDict()\n",
    "to_keep['Id'] = 'id'\n",
    "to_keep['Inspection_Id'] = 'insp_id'\n",
    "to_keep['Weight_SUM'] = 'weight'\n",
    "to_keep['Critical'] = 'critical'\n",
    "to_keep['Comments'] = 'comments'"
   ]
  },
  {
   "cell_type": "code",
   "execution_count": 80,
   "metadata": {
    "collapsed": true
   },
   "outputs": [],
   "source": [
    "violations_clean = violations[list(to_keep.keys())].rename(columns=to_keep).reset_index(drop=True)"
   ]
  },
  {
   "cell_type": "code",
   "execution_count": 81,
   "metadata": {
    "collapsed": false
   },
   "outputs": [
    {
     "data": {
      "text/plain": [
       "101299"
      ]
     },
     "execution_count": 81,
     "metadata": {},
     "output_type": "execute_result"
    }
   ],
   "source": [
    "len(violations_clean)"
   ]
  },
  {
   "cell_type": "code",
   "execution_count": 82,
   "metadata": {
    "collapsed": false
   },
   "outputs": [
    {
     "data": {
      "text/html": [
       "<div>\n",
       "<table border=\"1\" class=\"dataframe\">\n",
       "  <thead>\n",
       "    <tr style=\"text-align: right;\">\n",
       "      <th></th>\n",
       "      <th>id</th>\n",
       "      <th>insp_id</th>\n",
       "      <th>weight</th>\n",
       "      <th>critical</th>\n",
       "      <th>comments</th>\n",
       "    </tr>\n",
       "  </thead>\n",
       "  <tbody>\n",
       "    <tr>\n",
       "      <th>0</th>\n",
       "      <td>730091</td>\n",
       "      <td>946069</td>\n",
       "      <td>1</td>\n",
       "      <td>N</td>\n",
       "      <td>White plastic grocery bags not food grade and ...</td>\n",
       "    </tr>\n",
       "  </tbody>\n",
       "</table>\n",
       "</div>"
      ],
      "text/plain": [
       "       id  insp_id  weight critical  \\\n",
       "0  730091   946069       1        N   \n",
       "\n",
       "                                            comments  \n",
       "0  White plastic grocery bags not food grade and ...  "
      ]
     },
     "execution_count": 82,
     "metadata": {},
     "output_type": "execute_result"
    }
   ],
   "source": [
    "violations_clean.head(1)"
   ]
  },
  {
   "cell_type": "code",
   "execution_count": 83,
   "metadata": {
    "collapsed": false
   },
   "outputs": [
    {
     "data": {
      "text/plain": [
       "id            int64\n",
       "insp_id       int64\n",
       "weight      float64\n",
       "critical     object\n",
       "comments     object\n",
       "dtype: object"
      ]
     },
     "execution_count": 83,
     "metadata": {},
     "output_type": "execute_result"
    }
   ],
   "source": [
    "violations_clean.dtypes"
   ]
  },
  {
   "cell_type": "code",
   "execution_count": 84,
   "metadata": {
    "collapsed": false
   },
   "outputs": [
    {
     "data": {
      "text/plain": [
       "NaN    86116\n",
       "N       9385\n",
       "Y       5796\n",
       "0          2\n",
       "Name: critical, dtype: int64"
      ]
     },
     "execution_count": 84,
     "metadata": {},
     "output_type": "execute_result"
    }
   ],
   "source": [
    "violations_clean.critical.value_counts(dropna=False)"
   ]
  },
  {
   "cell_type": "markdown",
   "metadata": {},
   "source": [
    "## Example Joins\n",
    "\n",
    "We'll persist the clean copies separately. But let's make sure they can join cleanly."
   ]
  },
  {
   "cell_type": "code",
   "execution_count": 85,
   "metadata": {
    "collapsed": false
   },
   "outputs": [],
   "source": [
    "restaurant_inspections = pd.merge(establishments_clean, inspections_clean, left_on='id', right_on='est_id', suffixes=('_est', '_insp'))"
   ]
  },
  {
   "cell_type": "code",
   "execution_count": 86,
   "metadata": {
    "collapsed": true
   },
   "outputs": [],
   "source": [
    "restaurant_inspection_violations = pd.merge(restaurant_inspections, violations_clean, left_on='id_insp', right_on='id', suffixes=('', '_viol')) "
   ]
  },
  {
   "cell_type": "code",
   "execution_count": 87,
   "metadata": {
    "collapsed": false
   },
   "outputs": [
    {
     "data": {
      "text/html": [
       "<div>\n",
       "<table border=\"1\" class=\"dataframe\">\n",
       "  <thead>\n",
       "    <tr style=\"text-align: right;\">\n",
       "      <th></th>\n",
       "      <th>id_est</th>\n",
       "      <th>name</th>\n",
       "      <th>opened</th>\n",
       "      <th>closed</th>\n",
       "      <th>insp_freq</th>\n",
       "      <th>type_est</th>\n",
       "      <th>latlon</th>\n",
       "      <th>id_insp</th>\n",
       "      <th>est_id</th>\n",
       "      <th>date</th>\n",
       "      <th>extra_credit</th>\n",
       "      <th>grade</th>\n",
       "      <th>score</th>\n",
       "      <th>final_score</th>\n",
       "      <th>type_insp</th>\n",
       "      <th>id</th>\n",
       "      <th>insp_id</th>\n",
       "      <th>weight</th>\n",
       "      <th>critical</th>\n",
       "      <th>comments</th>\n",
       "    </tr>\n",
       "  </thead>\n",
       "  <tbody>\n",
       "    <tr>\n",
       "      <th>0</th>\n",
       "      <td>160947</td>\n",
       "      <td>PENN STATION EAST COAST SUBS</td>\n",
       "      <td>2014-10-20</td>\n",
       "      <td>NaT</td>\n",
       "      <td>2</td>\n",
       "      <td>1 - Restaurant</td>\n",
       "      <td>35.9041882, -78.9534773</td>\n",
       "      <td>2483026</td>\n",
       "      <td>160947</td>\n",
       "      <td>2014-11-17</td>\n",
       "      <td>N</td>\n",
       "      <td>A</td>\n",
       "      <td>98</td>\n",
       "      <td>98</td>\n",
       "      <td>1 - INSPECTION</td>\n",
       "      <td>2483026</td>\n",
       "      <td>1572265</td>\n",
       "      <td>0</td>\n",
       "      <td>NaN</td>\n",
       "      <td>NaN</td>\n",
       "    </tr>\n",
       "    <tr>\n",
       "      <th>1</th>\n",
       "      <td>161058</td>\n",
       "      <td>FRESH HEALTHY CAFE</td>\n",
       "      <td>2014-10-27</td>\n",
       "      <td>NaT</td>\n",
       "      <td>2</td>\n",
       "      <td>2 - Food Stands</td>\n",
       "      <td>35.9043093, -78.9411284</td>\n",
       "      <td>2489465</td>\n",
       "      <td>161058</td>\n",
       "      <td>2014-12-15</td>\n",
       "      <td>N</td>\n",
       "      <td>NaN</td>\n",
       "      <td>NaN</td>\n",
       "      <td>NaN</td>\n",
       "      <td>VERIFICATION</td>\n",
       "      <td>2489465</td>\n",
       "      <td>1573494</td>\n",
       "      <td>0</td>\n",
       "      <td>NaN</td>\n",
       "      <td>keep food above sanitizer, store raw unpasteur...</td>\n",
       "    </tr>\n",
       "    <tr>\n",
       "      <th>2</th>\n",
       "      <td>58060</td>\n",
       "      <td>BETHESDA SCHOOL LUNCHROOM</td>\n",
       "      <td>1991-09-19</td>\n",
       "      <td>NaT</td>\n",
       "      <td>4</td>\n",
       "      <td>11 - Public School Lunch</td>\n",
       "      <td>35.9421575, -78.8386141</td>\n",
       "      <td>2484784</td>\n",
       "      <td>58060</td>\n",
       "      <td>2014-11-24</td>\n",
       "      <td>N</td>\n",
       "      <td>A</td>\n",
       "      <td>97</td>\n",
       "      <td>97</td>\n",
       "      <td>1 - INSPECTION</td>\n",
       "      <td>2484784</td>\n",
       "      <td>1572530</td>\n",
       "      <td>0</td>\n",
       "      <td>NaN</td>\n",
       "      <td>NaN</td>\n",
       "    </tr>\n",
       "    <tr>\n",
       "      <th>3</th>\n",
       "      <td>58060</td>\n",
       "      <td>BETHESDA SCHOOL LUNCHROOM</td>\n",
       "      <td>1991-09-19</td>\n",
       "      <td>NaT</td>\n",
       "      <td>4</td>\n",
       "      <td>11 - Public School Lunch</td>\n",
       "      <td>35.9421575, -78.8386141</td>\n",
       "      <td>2297505</td>\n",
       "      <td>58060</td>\n",
       "      <td>2013-10-09</td>\n",
       "      <td>N</td>\n",
       "      <td>A</td>\n",
       "      <td>97</td>\n",
       "      <td>97</td>\n",
       "      <td>1 - INSPECTION</td>\n",
       "      <td>2297505</td>\n",
       "      <td>1527559</td>\n",
       "      <td>0</td>\n",
       "      <td>NaN</td>\n",
       "      <td>NaN</td>\n",
       "    </tr>\n",
       "    <tr>\n",
       "      <th>4</th>\n",
       "      <td>57804</td>\n",
       "      <td>TAQUERIA LA ESPERANZA</td>\n",
       "      <td>2007-01-08</td>\n",
       "      <td>NaT</td>\n",
       "      <td>4</td>\n",
       "      <td>2 - Food Stands</td>\n",
       "      <td>35.9944791, -78.8828683</td>\n",
       "      <td>1320205</td>\n",
       "      <td>57804</td>\n",
       "      <td>2011-01-25</td>\n",
       "      <td>N</td>\n",
       "      <td>NaN</td>\n",
       "      <td>NaN</td>\n",
       "      <td>NaN</td>\n",
       "      <td>V - VISIT</td>\n",
       "      <td>1320205</td>\n",
       "      <td>1172326</td>\n",
       "      <td>NaN</td>\n",
       "      <td>Y</td>\n",
       "      <td>NaN</td>\n",
       "    </tr>\n",
       "  </tbody>\n",
       "</table>\n",
       "</div>"
      ],
      "text/plain": [
       "   id_est                          name     opened closed  insp_freq  \\\n",
       "0  160947  PENN STATION EAST COAST SUBS 2014-10-20    NaT          2   \n",
       "1  161058            FRESH HEALTHY CAFE 2014-10-27    NaT          2   \n",
       "2   58060     BETHESDA SCHOOL LUNCHROOM 1991-09-19    NaT          4   \n",
       "3   58060     BETHESDA SCHOOL LUNCHROOM 1991-09-19    NaT          4   \n",
       "4   57804         TAQUERIA LA ESPERANZA 2007-01-08    NaT          4   \n",
       "\n",
       "                   type_est                   latlon  id_insp  est_id  \\\n",
       "0            1 - Restaurant  35.9041882, -78.9534773  2483026  160947   \n",
       "1           2 - Food Stands  35.9043093, -78.9411284  2489465  161058   \n",
       "2  11 - Public School Lunch  35.9421575, -78.8386141  2484784   58060   \n",
       "3  11 - Public School Lunch  35.9421575, -78.8386141  2297505   58060   \n",
       "4           2 - Food Stands  35.9944791, -78.8828683  1320205   57804   \n",
       "\n",
       "        date extra_credit grade  score  final_score       type_insp       id  \\\n",
       "0 2014-11-17            N     A     98           98  1 - INSPECTION  2483026   \n",
       "1 2014-12-15            N   NaN    NaN          NaN    VERIFICATION  2489465   \n",
       "2 2014-11-24            N     A     97           97  1 - INSPECTION  2484784   \n",
       "3 2013-10-09            N     A     97           97  1 - INSPECTION  2297505   \n",
       "4 2011-01-25            N   NaN    NaN          NaN       V - VISIT  1320205   \n",
       "\n",
       "   insp_id  weight critical                                           comments  \n",
       "0  1572265       0      NaN                                                NaN  \n",
       "1  1573494       0      NaN  keep food above sanitizer, store raw unpasteur...  \n",
       "2  1572530       0      NaN                                                NaN  \n",
       "3  1527559       0      NaN                                                NaN  \n",
       "4  1172326     NaN        Y                                                NaN  "
      ]
     },
     "execution_count": 87,
     "metadata": {},
     "output_type": "execute_result"
    }
   ],
   "source": [
    "restaurant_inspection_violations.head(5)"
   ]
  },
  {
   "cell_type": "code",
   "execution_count": 88,
   "metadata": {
    "collapsed": false
   },
   "outputs": [
    {
     "data": {
      "text/plain": [
       "id_est                   int64\n",
       "name                    object\n",
       "opened          datetime64[ns]\n",
       "closed          datetime64[ns]\n",
       "insp_freq                int64\n",
       "type_est                object\n",
       "latlon                  object\n",
       "id_insp                  int64\n",
       "est_id                   int64\n",
       "date            datetime64[ns]\n",
       "extra_credit            object\n",
       "grade                   object\n",
       "score                  float64\n",
       "final_score            float64\n",
       "type_insp               object\n",
       "id                       int64\n",
       "insp_id                  int64\n",
       "weight                 float64\n",
       "critical                object\n",
       "comments                object\n",
       "dtype: object"
      ]
     },
     "execution_count": 88,
     "metadata": {},
     "output_type": "execute_result"
    }
   ],
   "source": [
    "restaurant_inspection_violations.dtypes"
   ]
  },
  {
   "cell_type": "markdown",
   "metadata": {},
   "source": [
    "## Persist\n",
    "\n",
    "Save 'em."
   ]
  },
  {
   "cell_type": "code",
   "execution_count": 89,
   "metadata": {
    "collapsed": false
   },
   "outputs": [],
   "source": [
    "establishments_clean.to_pickle('establishments_20160617.pickle')"
   ]
  },
  {
   "cell_type": "code",
   "execution_count": 90,
   "metadata": {
    "collapsed": true
   },
   "outputs": [],
   "source": [
    "establishments_clean.to_csv('establishments_20160617.csv', index=False)"
   ]
  },
  {
   "cell_type": "code",
   "execution_count": 91,
   "metadata": {
    "collapsed": true
   },
   "outputs": [],
   "source": [
    "inspections_clean.to_pickle('inspections_20160617.pickle')"
   ]
  },
  {
   "cell_type": "code",
   "execution_count": 92,
   "metadata": {
    "collapsed": true
   },
   "outputs": [],
   "source": [
    "inspections_clean.to_csv('inspections_20160617.csv', index=False)"
   ]
  },
  {
   "cell_type": "code",
   "execution_count": 93,
   "metadata": {
    "collapsed": true
   },
   "outputs": [],
   "source": [
    "violations_clean.to_pickle('violations_20160617.pickle')"
   ]
  },
  {
   "cell_type": "code",
   "execution_count": 94,
   "metadata": {
    "collapsed": true
   },
   "outputs": [],
   "source": [
    "violations_clean.to_csv('violations_20160617.csv', index=False)"
   ]
  }
 ],
 "metadata": {
  "kernelspec": {
   "display_name": "Python 3",
   "language": "python",
   "name": "python3"
  },
  "language_info": {
   "codemirror_mode": {
    "name": "ipython",
    "version": 3
   },
   "file_extension": ".py",
   "mimetype": "text/x-python",
   "name": "python",
   "nbconvert_exporter": "python",
   "pygments_lexer": "ipython3",
   "version": "3.5.1"
  },
  "widgets": {
   "state": {
    "72939C28A995421289F36129C4F21FC9": {
     "views": []
    },
    "C8916349176A4B9788A6D32813046107": {
     "views": []
    }
   },
   "version": "1.1.2"
  }
 },
 "nbformat": 4,
 "nbformat_minor": 0
}
