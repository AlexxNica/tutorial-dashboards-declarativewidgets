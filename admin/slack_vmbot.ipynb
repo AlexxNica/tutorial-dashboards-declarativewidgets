{
 "cells": [
  {
   "cell_type": "markdown",
   "metadata": {
    "extensions": {
     "jupyter_dashboards": {
      "version": 1,
      "views": {
       "grid_default": {
        "hidden": false
       },
       "report_default": {
        "hidden": false
       }
      }
     }
    }
   },
   "source": [
    "# PyData Carolinas VM Assignment Bot"
   ]
  },
  {
   "cell_type": "markdown",
   "metadata": {
    "extensions": {
     "jupyter_dashboards": {
      "version": 1,
      "views": {
       "grid_default": {
        "hidden": false
       },
       "report_default": {
        "hidden": true
       }
      }
     }
    }
   },
   "source": [
    "0. Listen for \"vm please\" requests to @vmbot.\n",
    "1. Get a list of all VMs tagged pydata2016 from the SoftLayer (SL) API\n",
    "2. Filter out all VMs that already have a non-blank note indicating the \"owner\" of the VM\n",
    "3. Randomly pick one unassigned VM\n",
    "4. Fetch the notebook and dashboard server credentials stored in the VM user metadata\n",
    "5. Store the Slack user ID in the VM notes field\n",
    "6. Respond with links to the services on the VM and credentials\n",
    "7. Show recent log messages and VM ownership in simple dashboard tables"
   ]
  },
  {
   "cell_type": "code",
   "execution_count": null,
   "metadata": {
    "collapsed": false,
    "extensions": {
     "jupyter_dashboards": {
      "version": 1,
      "views": {
       "grid_default": {
        "hidden": false
       },
       "report_default": {
        "hidden": true
       }
      }
     }
    }
   },
   "outputs": [],
   "source": [
    "# !pip install git+https://github.com/parente/dizzybot -U"
   ]
  },
  {
   "cell_type": "code",
   "execution_count": null,
   "metadata": {
    "collapsed": true,
    "extensions": {
     "jupyter_dashboards": {
      "version": 1,
      "views": {
       "grid_default": {
        "hidden": false
       },
       "report_default": {
        "hidden": true
       }
      }
     }
    }
   },
   "outputs": [],
   "source": [
    "import json\n",
    "import os\n",
    "import random\n",
    "import SoftLayer\n",
    "import collections\n",
    "from datetime import datetime\n",
    "from urth.widgets.widget_channels import channel\n",
    "from dizzybot import Dizzybot\n",
    "from tornado import ioloop"
   ]
  },
  {
   "cell_type": "markdown",
   "metadata": {
    "extensions": {
     "jupyter_dashboards": {
      "version": 1,
      "views": {
       "grid_default": {
        "hidden": false
       },
       "report_default": {
        "hidden": true
       }
      }
     }
    }
   },
   "source": [
    "If True, don't save the owner info back to SoftLayer to avoid exhausting the pool. Otherwise, write the owner info to the SoftLayer VM notes field."
   ]
  },
  {
   "cell_type": "code",
   "execution_count": null,
   "metadata": {
    "collapsed": true,
    "extensions": {
     "jupyter_dashboards": {
      "version": 1,
      "views": {
       "grid_default": {
        "hidden": false
       },
       "report_default": {
        "hidden": true
       }
      }
     }
    }
   },
   "outputs": [],
   "source": [
    "DEV = True"
   ]
  },
  {
   "cell_type": "markdown",
   "metadata": {
    "extensions": {
     "jupyter_dashboards": {
      "version": 1,
      "views": {
       "grid_default": {
        "hidden": false
       },
       "report_default": {
        "hidden": true
       }
      }
     }
    }
   },
   "source": [
    "Make sure `SOFTLAYER_USER`, `SOFTLAYER_API_KEY`, and `SLACK_TOKEN` are set in the environment. Or set them here."
   ]
  },
  {
   "cell_type": "code",
   "execution_count": null,
   "metadata": {
    "collapsed": true,
    "extensions": {
     "jupyter_dashboards": {
      "version": 1,
      "views": {
       "grid_default": {
        "hidden": false
       },
       "report_default": {
        "hidden": true
       }
      }
     }
    }
   },
   "outputs": [],
   "source": [
    "SOFTLAYER_API_KEY = os.getenv('SOFTLAYER_API_KEY')\n",
    "SOFTLAYER_USER = os.getenv('SOFTLAYER_USER')\n",
    "SLACK_TOKEN = os.getenv('SLACK_TOKEN')\n",
    "TRIGGER = 'vm please'\n",
    "HEALTH_CHECK_INTERVAL_MS = 10000"
   ]
  },
  {
   "cell_type": "markdown",
   "metadata": {
    "extensions": {
     "jupyter_dashboards": {
      "version": 1,
      "views": {
       "grid_default": {
        "hidden": false
       },
       "report_default": {
        "hidden": true
       }
      }
     }
    }
   },
   "source": [
    "Globals used across functions and inspected for admin dashboard display."
   ]
  },
  {
   "cell_type": "code",
   "execution_count": null,
   "metadata": {
    "collapsed": false,
    "extensions": {
     "jupyter_dashboards": {
      "version": 1,
      "views": {
       "grid_default": {
        "hidden": false
       },
       "report_default": {
        "hidden": true
       }
      }
     }
    }
   },
   "outputs": [],
   "source": [
    "def notify_vm_status():\n",
    "    '''\n",
    "    Put the FQDN and its owner on the vms channel as status.\n",
    "    '''\n",
    "    channel('vms').set('status', \n",
    "                       [(instance['fullyQualifiedDomainName'], instance.get('notes', '')) for instance in instances])"
   ]
  },
  {
   "cell_type": "markdown",
   "metadata": {
    "extensions": {
     "jupyter_dashboards": {
      "version": 1,
      "views": {
       "grid_default": {
        "hidden": false
       },
       "report_default": {
        "hidden": true
       }
      }
     }
    }
   },
   "source": [
    "### SoftLayer Client"
   ]
  },
  {
   "cell_type": "code",
   "execution_count": null,
   "metadata": {
    "collapsed": false,
    "extensions": {
     "jupyter_dashboards": {
      "version": 1,
      "views": {
       "grid_default": {
        "hidden": false
       },
       "report_default": {
        "hidden": true
       }
      }
     }
    }
   },
   "outputs": [],
   "source": [
    "sl_client = SoftLayer.create_client_from_env(username=SOFTLAYER_USER, api_key=SOFTLAYER_API_KEY)"
   ]
  },
  {
   "cell_type": "code",
   "execution_count": null,
   "metadata": {
    "collapsed": false,
    "extensions": {
     "jupyter_dashboards": {
      "version": 1,
      "views": {
       "grid_default": {
        "hidden": false
       },
       "report_default": {
        "hidden": true
       }
      }
     }
    }
   },
   "outputs": [],
   "source": [
    "vm_mgr = SoftLayer.VSManager(sl_client)"
   ]
  },
  {
   "cell_type": "code",
   "execution_count": null,
   "metadata": {
    "collapsed": false,
    "extensions": {
     "jupyter_dashboards": {
      "version": 1,
      "views": {
       "grid_default": {
        "hidden": false
       },
       "report_default": {
        "hidden": true
       }
      }
     }
    }
   },
   "outputs": [],
   "source": [
    "instances = vm_mgr.list_instances(tags=['pydata2016'], mask='id,notes,fullyQualifiedDomainName,userData')\n",
    "notify_vm_status()"
   ]
  },
  {
   "cell_type": "code",
   "execution_count": null,
   "metadata": {
    "collapsed": false,
    "extensions": {
     "jupyter_dashboards": {
      "version": 1,
      "views": {
       "grid_default": {
        "hidden": false
       },
       "report_default": {
        "hidden": true
       }
      }
     }
    }
   },
   "outputs": [],
   "source": [
    "def assign_vm(username):\n",
    "    '''\n",
    "    Assign a virtual machine to the user. If the user already owns a VM,\n",
    "    return that same VM instead of assigning a new one. \n",
    "    \n",
    "    Raises IndexError if there are no unassigned VMs left to dole out.\n",
    "    '''\n",
    "    available = []\n",
    "    for instance in instances:\n",
    "        owner = instance.get('notes', '').strip()\n",
    "        if owner == username:\n",
    "            instance['config'] = json.loads(instance['userData'][0]['value'])\n",
    "            return instance\n",
    "        elif not owner and instance.get('userData', []):\n",
    "            available.append(instance)\n",
    "    \n",
    "    instance = random.choice(available)\n",
    "    if not DEV:\n",
    "        # Assign VMs for real if we're not in dev mode\n",
    "        # Otherwise, only mark them locally\n",
    "        rv = vm_mgr.edit(instance['id'], notes=username)\n",
    "    # Update the notes locally too so we don't have to hit the API again\n",
    "    instance['notes'] = username\n",
    "    # Make the user data more easily accessible\n",
    "    instance['config'] = json.loads(instance['userData'][0]['value'])\n",
    "    notify_vm_status()\n",
    "    return instance"
   ]
  },
  {
   "cell_type": "markdown",
   "metadata": {
    "extensions": {
     "jupyter_dashboards": {
      "version": 1,
      "views": {
       "grid_default": {
        "hidden": false
       },
       "report_default": {
        "hidden": true
       }
      }
     }
    }
   },
   "source": [
    "### Slack Client"
   ]
  },
  {
   "cell_type": "code",
   "execution_count": null,
   "metadata": {
    "collapsed": false,
    "extensions": {
     "jupyter_dashboards": {
      "version": 1,
      "views": {
       "grid_default": {
        "hidden": false
       },
       "report_default": {
        "hidden": true
       }
      }
     }
    }
   },
   "outputs": [],
   "source": [
    "class VMBot(Dizzybot):\n",
    "    def log(self, text):\n",
    "        '''Override logging to track datetime too.'''\n",
    "        super(VMBot, self).log((str(datetime.now()), text))\n",
    "        channel('log').set('recent', reversed(list(self.recent)))\n",
    "    \n",
    "    def on_event(self, evt):\n",
    "        '''\n",
    "        Assign a VM to the user that asked for one and respond with\n",
    "        the URL and credentials the user needs to access the notebook\n",
    "        server and dashboard server running on it.\n",
    "        '''\n",
    "        if evt.get('type') != 'message' or 'reply_to' in evt:\n",
    "            return\n",
    "        \n",
    "        if TRIGGER not in evt.get('text', '').lower():\n",
    "            return\n",
    "            \n",
    "        # Get username from message\n",
    "        try:\n",
    "            user_id = evt['user']\n",
    "        except KeyError:\n",
    "            return self.log('abort: could not get user from message')\n",
    "\n",
    "        # Assign a VM to the user\n",
    "        try:\n",
    "            vm = assign_vm(user_id)\n",
    "        except IndexError as e:\n",
    "            self.log('abort, out of VMs: {}'.format(e))\n",
    "            text = 'Oh no! We have no VMs left. Tell an instructor!'\n",
    "        else:\n",
    "            text = '''Hi, <@{user_id}>. Here's your machine details:\n",
    "    Jupyter Notebook: http://{fullyQualifiedDomainName}:8888 (password: {config[nb_password]})\n",
    "    Jupyter Dashboards: http://{fullyQualifiedDomainName}:3000 (username: pydata, password: {config[db_password]})\n",
    "    '''.format(user_id=user_id, **vm)\n",
    "        \n",
    "        # Respond to the requester\n",
    "        self.respond(evt, text)"
   ]
  },
  {
   "cell_type": "code",
   "execution_count": null,
   "metadata": {
    "collapsed": false,
    "extensions": {
     "jupyter_dashboards": {
      "version": 1,
      "views": {
       "grid_default": {
        "hidden": false
       },
       "report_default": {
        "hidden": true
       }
      }
     }
    }
   },
   "outputs": [],
   "source": [
    "try:\n",
    "    bot.stop()\n",
    "except NameError:\n",
    "    pass\n",
    "bot = VMBot(SLACK_TOKEN)"
   ]
  },
  {
   "cell_type": "code",
   "execution_count": null,
   "metadata": {
    "collapsed": false,
    "extensions": {
     "jupyter_dashboards": {
      "version": 1,
      "views": {
       "grid_default": {
        "hidden": false
       },
       "report_default": {
        "hidden": true
       }
      }
     }
    }
   },
   "outputs": [],
   "source": [
    "bot.start()"
   ]
  },
  {
   "cell_type": "markdown",
   "metadata": {
    "extensions": {
     "jupyter_dashboards": {
      "version": 1,
      "views": {
       "grid_default": {
        "hidden": false
       },
       "report_default": {
        "hidden": true
       }
      }
     }
    }
   },
   "source": [
    "### Admin UI\n",
    "\n",
    "Shows recent messages and current VM assignment status."
   ]
  },
  {
   "cell_type": "code",
   "execution_count": null,
   "metadata": {
    "collapsed": true
   },
   "outputs": [],
   "source": [
    "import declarativewidgets as dw \n",
    "dw.init()"
   ]
  },
  {
   "cell_type": "code",
   "execution_count": null,
   "metadata": {
    "collapsed": false,
    "extensions": {
     "jupyter_dashboards": {
      "version": 1,
      "views": {
       "grid_default": {
        "hidden": false
       },
       "report_default": {
        "hidden": false
       }
      }
     }
    },
    "scrolled": false
   },
   "outputs": [],
   "source": [
    "%%html\n",
    "<template is=\"urth-core-bind\" channel=\"log\">\n",
    "    <table>\n",
    "        <caption>Recent messages</caption>\n",
    "        <thead>\n",
    "            <tr>\n",
    "                <th></th>\n",
    "                <th>Local time</th>\n",
    "                <th>Type</th>\n",
    "                <th>Text</th>\n",
    "            </tr>\n",
    "        </thead>\n",
    "        <tbody>\n",
    "        <template is=\"dom-repeat\" items=\"[[recent]]\">\n",
    "            <tr>\n",
    "                <td>[[index]]</td>\n",
    "                <td>[[item.0]]</td>\n",
    "                <td>[[item.1.type]]</td>\n",
    "                <td>[[item.1.text]]</td>\n",
    "            </tr>\n",
    "        </template>\n",
    "        </tbody>\n",
    "</template>"
   ]
  },
  {
   "cell_type": "code",
   "execution_count": null,
   "metadata": {
    "collapsed": false,
    "extensions": {
     "jupyter_dashboards": {
      "version": 1,
      "views": {
       "grid_default": {
        "hidden": false
       },
       "report_default": {
        "hidden": false
       }
      }
     }
    }
   },
   "outputs": [],
   "source": [
    "%%html\n",
    "<template is=\"urth-core-bind\" channel=\"vms\">\n",
    "    <table>\n",
    "        <caption>VM assignments</caption>\n",
    "        <thead>\n",
    "            <tr>\n",
    "                <th></th>\n",
    "                <th>Host</th>\n",
    "                <th>Owner</th>\n",
    "            </tr>\n",
    "        </thead>\n",
    "        <tbody>\n",
    "        <template is=\"dom-repeat\" items=\"[[status]]\">\n",
    "            <tr>\n",
    "                <td>[[index]]</td>\n",
    "                <td>[[item.0]]</td>\n",
    "                <td>[[item.1]]</td>\n",
    "            </tr>\n",
    "        </template>\n",
    "        </tbody>\n",
    "</template>"
   ]
  }
 ],
 "metadata": {
  "extensions": {
   "jupyter_dashboards": {
    "activeView": "report_default",
    "version": 1,
    "views": {
     "grid_default": {
      "name": "grid",
      "type": "grid"
     },
     "report_default": {
      "name": "report",
      "type": "report"
     }
    }
   }
  },
  "kernelspec": {
   "display_name": "Python 3",
   "language": "python",
   "name": "python3"
  },
  "language_info": {
   "codemirror_mode": {
    "name": "ipython",
    "version": 3
   },
   "file_extension": ".py",
   "mimetype": "text/x-python",
   "name": "python",
   "nbconvert_exporter": "python",
   "pygments_lexer": "ipython3",
   "version": "3.5.1"
  },
  "widgets": {
   "state": {},
   "version": "1.1.2"
  }
 },
 "nbformat": 4,
 "nbformat_minor": 0
}
