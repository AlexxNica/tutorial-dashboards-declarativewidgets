{
 "cells": [
  {
   "cell_type": "markdown",
   "metadata": {
    "urth": {
     "dashboard": {
      "layout": {}
     }
    }
   },
   "source": [
    "# PyData Carolinas VM Assignment Bot"
   ]
  },
  {
   "cell_type": "markdown",
   "metadata": {
    "urth": {
     "dashboard": {
      "hidden": true,
      "layout": {}
     }
    }
   },
   "source": [
    "0. Listen for \"vm please\" requests in https://gitter.im/ibm-et/pydata2016\n",
    "1. Get a list of all VMs tagged pydata2016 from the SoftLayer (SL) API\n",
    "2. Filter out all VMs that already have a non-blank note indicating the \"owner\" of the VM\n",
    "3. Randomly pick one unassigned VM\n",
    "4. Fetch the notebook and dashboard server credentials stored in the VM user metadata\n",
    "5. Store the Gitter username in the VM notes field\n",
    "6. Respond with links to the services on the VM and credentials\n",
    "7. Show recent log messages and VM ownership in simple dashboard tables"
   ]
  },
  {
   "cell_type": "code",
   "execution_count": null,
   "metadata": {
    "collapsed": true,
    "urth": {
     "dashboard": {
      "hidden": true,
      "layout": {}
     }
    }
   },
   "outputs": [],
   "source": [
    "import json\n",
    "import os\n",
    "import random\n",
    "import SoftLayer\n",
    "import collections\n",
    "from datetime import datetime\n",
    "from urth.widgets.widget_channels import channel\n",
    "from tornado.httpclient import AsyncHTTPClient, HTTPClient, HTTPRequest\n",
    "from tornado.websocket import websocket_connect\n",
    "from tornado import ioloop"
   ]
  },
  {
   "cell_type": "markdown",
   "metadata": {
    "urth": {
     "dashboard": {
      "hidden": true,
      "layout": {}
     }
    }
   },
   "source": [
    "If True, use the parente/sandbox channel and don't save the owner info back to SoftLayer to avoid exhausting the pool. Otherwise, use the ibm-et/pydata2016 channel and write the owner info to the SoftLayer VM notes field."
   ]
  },
  {
   "cell_type": "code",
   "execution_count": null,
   "metadata": {
    "collapsed": true,
    "urth": {
     "dashboard": {
      "hidden": true,
      "layout": {}
     }
    }
   },
   "outputs": [],
   "source": [
    "DEV = True"
   ]
  },
  {
   "cell_type": "markdown",
   "metadata": {
    "urth": {
     "dashboard": {
      "hidden": true,
      "layout": {}
     }
    }
   },
   "source": [
    "Make sure `SOFTLAYER_TOKEN` and `GITTER_TOKEN` are set in the environment. Or set them here."
   ]
  },
  {
   "cell_type": "code",
   "execution_count": null,
   "metadata": {
    "collapsed": true,
    "urth": {
     "dashboard": {
      "hidden": true,
      "layout": {}
     }
    }
   },
   "outputs": [],
   "source": [
    "SOFTLAYER_TOKEN = os.getenv('SOFTLAYER_TOKEN')\n",
    "GITTER_TOKEN = os.getenv('GITTER_TOKEN')\n",
    "TRIGGER = 'vm please'\n",
    "HEALTH_CHECK_INTERVAL_MS = 10000\n",
    "CHANNEL_ID = '57766fa9c2f0db084a20f432' if DEV else '5776b21cc2f0db084a20fe67'\n",
    "HEADERS = {\n",
    "    'Authorization': 'Bearer ' + GITTER_TOKEN,\n",
    "    'Content-Type': 'application/json'\n",
    "}"
   ]
  },
  {
   "cell_type": "markdown",
   "metadata": {
    "urth": {
     "dashboard": {
      "hidden": true,
      "layout": {}
     }
    }
   },
   "source": [
    "Globals used across functions and inspected for admin dashboard display."
   ]
  },
  {
   "cell_type": "code",
   "execution_count": null,
   "metadata": {
    "collapsed": true,
    "urth": {
     "dashboard": {
      "hidden": true,
      "layout": {}
     }
    }
   },
   "outputs": [],
   "source": [
    "recent = collections.deque(maxlen=50)\n",
    "stream = None"
   ]
  },
  {
   "cell_type": "markdown",
   "metadata": {
    "urth": {
     "dashboard": {
      "hidden": true,
      "layout": {}
     }
    }
   },
   "source": [
    "Monitoring functions."
   ]
  },
  {
   "cell_type": "code",
   "execution_count": null,
   "metadata": {
    "collapsed": true,
    "urth": {
     "dashboard": {
      "hidden": true,
      "layout": {}
     }
    }
   },
   "outputs": [],
   "source": [
    "def log(msg):\n",
    "    '''\n",
    "    Put a message in a ring buffer. Put the entire buffer on the log channel\n",
    "    as status sorted newest to oldest.\n",
    "    '''\n",
    "    recent.append((str(datetime.now()), msg))\n",
    "    channel('log').set('recent', reversed(list(recent)))"
   ]
  },
  {
   "cell_type": "code",
   "execution_count": null,
   "metadata": {
    "collapsed": false,
    "urth": {
     "dashboard": {
      "hidden": true,
      "layout": {}
     }
    }
   },
   "outputs": [],
   "source": [
    "def notify_vm_status():\n",
    "    '''\n",
    "    Put the FQDN and its owner on the vms channel as status.\n",
    "    '''\n",
    "    channel('vms').set('status', \n",
    "                       [(instance['fullyQualifiedDomainName'], instance.get('notes', '')) for instance in instances])"
   ]
  },
  {
   "cell_type": "markdown",
   "metadata": {
    "urth": {
     "dashboard": {
      "hidden": true,
      "layout": {}
     }
    }
   },
   "source": [
    "### SoftLayer Client"
   ]
  },
  {
   "cell_type": "code",
   "execution_count": null,
   "metadata": {
    "collapsed": false,
    "urth": {
     "dashboard": {
      "hidden": true,
      "layout": {}
     }
    }
   },
   "outputs": [],
   "source": [
    "sl_client = SoftLayer.create_client_from_env(username='ibmetech-pparente', api_key=SOFTLAYER_TOKEN)"
   ]
  },
  {
   "cell_type": "code",
   "execution_count": null,
   "metadata": {
    "collapsed": false,
    "urth": {
     "dashboard": {
      "hidden": true,
      "layout": {}
     }
    }
   },
   "outputs": [],
   "source": [
    "vm_mgr = SoftLayer.VSManager(sl_client)"
   ]
  },
  {
   "cell_type": "code",
   "execution_count": null,
   "metadata": {
    "collapsed": false,
    "urth": {
     "dashboard": {
      "hidden": true,
      "layout": {}
     }
    }
   },
   "outputs": [],
   "source": [
    "instances = vm_mgr.list_instances(tags=['pydata2016'], mask='id,notes,fullyQualifiedDomainName,userData')\n",
    "notify_vm_status()"
   ]
  },
  {
   "cell_type": "code",
   "execution_count": null,
   "metadata": {
    "collapsed": false,
    "urth": {
     "dashboard": {
      "hidden": true,
      "layout": {}
     }
    }
   },
   "outputs": [],
   "source": [
    "def assign_vm(username):\n",
    "    '''\n",
    "    Assign a virtual machine to the user. If the user already owns a VM,\n",
    "    return that same VM instead of assigning a new one. \n",
    "    \n",
    "    Raises IndexError if there are no unassigned VMs left to dole out.\n",
    "    '''\n",
    "    available = []\n",
    "    for instance in instances:\n",
    "        owner = instance.get('notes', '').strip()\n",
    "        if owner == username:\n",
    "            instance['config'] = json.loads(instance['userData'][0]['value'])\n",
    "            return instance\n",
    "        elif not owner and instance.get('userData', []):\n",
    "            available.append(instance)\n",
    "    \n",
    "    instance = random.choice(available)\n",
    "    if not DEV:\n",
    "        # Assign VMs for real if we're not in dev mode\n",
    "        # Otherwise, only mark them locally\n",
    "        rv = vm_mgr.edit(instance['id'], notes=username)\n",
    "    # Update the notes locally too so we don't have to hit the API again\n",
    "    instance['notes'] = username\n",
    "    # Make the user data more easily accessible\n",
    "    instance['config'] = json.loads(instance['userData'][0]['value'])\n",
    "    notify_vm_status()\n",
    "    return instance"
   ]
  },
  {
   "cell_type": "markdown",
   "metadata": {
    "urth": {
     "dashboard": {
      "hidden": true,
      "layout": {}
     }
    }
   },
   "source": [
    "### Gitter Client"
   ]
  },
  {
   "cell_type": "code",
   "execution_count": null,
   "metadata": {
    "collapsed": false,
    "urth": {
     "dashboard": {
      "hidden": true,
      "layout": {}
     }
    }
   },
   "outputs": [],
   "source": [
    "def on_request_vm(msg):\n",
    "    '''\n",
    "    Assign a VM to the user that asked for one and respond with\n",
    "    the URL and credentials the user needs to access the notebook\n",
    "    server and dashboard server running on it.\n",
    "    '''\n",
    "    c = HTTPClient()\n",
    "    \n",
    "    # Get the username\n",
    "    try:\n",
    "        username = msg['fromUser']['username']\n",
    "    except KeyError:\n",
    "        return log('abort: could not get username from message')\n",
    "\n",
    "    # Make sure we can respond to the user privately\n",
    "    log('creating one-to-one chat with {}'.format(username))\n",
    "    resp = c.fetch('https://api.gitter.im/v1/rooms',\n",
    "                    raise_error=False,\n",
    "                    method='POST',\n",
    "                    headers=HEADERS,\n",
    "                    body=json.dumps({'uri': username}))\n",
    "    if resp.code >= 400:\n",
    "        return log('abort: could not start one-to-one convo with {}'.format(username))\n",
    "    room = json.loads(resp.body.decode('utf-8'))['id']\n",
    "    \n",
    "    # Assign a VM to the user\n",
    "    try:\n",
    "        vm = assign_vm(username)\n",
    "    except IndexError as e:\n",
    "        log('abort: out of VMs: {}'.format(e))\n",
    "        msg = 'Oh no! We have no VMs left. Tell an instructor!'\n",
    "    else:\n",
    "        msg = '''Hi, {username}. Here's your machine details:\n",
    "Jupyter Notebook: http://{fullyQualifiedDomainName}:8888 (password: {config[nb_password]})\n",
    "Jupyter Dashboards: http://{fullyQualifiedDomainName}:3000 (username: pydata, password: {config[db_password]})\n",
    "'''.format(username=username, **vm)\n",
    "\n",
    "    # Tell the user the VM details privately\n",
    "    log('sending VM details to {}'.format(username))\n",
    "    resp = c.fetch('https://api.gitter.im/v1/rooms/{}/chatMessages'.format(room),\n",
    "                   raise_error=False,\n",
    "                   method='POST',\n",
    "                   headers=HEADERS,\n",
    "                   body=json.dumps({'text': msg}))\n",
    "    if resp.code >= 400:\n",
    "        return log('abort: could not send VM info to {}'.format(username))\n",
    "\n",
    "    log('finished assigning {} to {}'.format(vm['fullyQualifiedDomainName'], username))"
   ]
  },
  {
   "cell_type": "code",
   "execution_count": null,
   "metadata": {
    "collapsed": true,
    "urth": {
     "dashboard": {
      "hidden": true,
      "layout": {}
     }
    }
   },
   "outputs": [],
   "source": [
    "def on_complete(resp):\n",
    "    '''\n",
    "    Remove the global stream object on long-poll disconnect. \n",
    "    It acts as a canary for the reconnection logic.\n",
    "    '''\n",
    "    global stream\n",
    "    stream = None\n",
    "    log('disconnected with code {}'.format(resp.code))"
   ]
  },
  {
   "cell_type": "code",
   "execution_count": null,
   "metadata": {
    "collapsed": true,
    "urth": {
     "dashboard": {
      "hidden": true,
      "layout": {}
     }
    }
   },
   "outputs": [],
   "source": [
    "def on_messages(msgs):\n",
    "    '''\n",
    "    Handle one or more messages received in the configured\n",
    "    Gitter channel. Assign a VM to a message sender if he/she\n",
    "    says the trigger phrase.\n",
    "    '''\n",
    "    for msg in msgs.decode('utf-8').split('\\r'):\n",
    "        msg = msg.strip()\n",
    "        if not msg: continue        \n",
    "        log(msg)\n",
    "\n",
    "        msg = json.loads(msg)\n",
    "        # Continue processing if the trigger is present\n",
    "        if TRIGGER in msg['text'].lower():\n",
    "            try:\n",
    "                on_request_vm(msg)\n",
    "            except Exception as e:\n",
    "                log('abort: exception in on_request_vm: '.format(e))"
   ]
  },
  {
   "cell_type": "code",
   "execution_count": null,
   "metadata": {
    "collapsed": false,
    "urth": {
     "dashboard": {
      "hidden": true,
      "layout": {}
     }
    }
   },
   "outputs": [],
   "source": [
    "def start():\n",
    "    '''\n",
    "    Start a long-poll to the Gitter stream API for chat messages\n",
    "    in the preconfigured channel.\n",
    "    '''\n",
    "    global stream\n",
    "    http_client = AsyncHTTPClient(force_instance=True)\n",
    "    req = HTTPRequest('https://stream.gitter.im/v1/rooms/{}/chatMessages'.format(CHANNEL_ID), \n",
    "                      headers=HEADERS,\n",
    "                      streaming_callback=on_messages,\n",
    "                      connect_timeout=2592000,\n",
    "                      request_timeout=2592000)\n",
    "    stream = http_client.fetch(req, callback=on_complete)"
   ]
  },
  {
   "cell_type": "markdown",
   "metadata": {
    "urth": {
     "dashboard": {
      "hidden": true,
      "layout": {}
     }
    }
   },
   "source": [
    "### Monitoring"
   ]
  },
  {
   "cell_type": "code",
   "execution_count": null,
   "metadata": {
    "collapsed": false,
    "urth": {
     "dashboard": {
      "hidden": true,
      "layout": {}
     }
    }
   },
   "outputs": [],
   "source": [
    "def check_health():\n",
    "    '''\n",
    "    Check if the global stream object exists. If not, schedule a \n",
    "    new long-poll connection.\n",
    "    '''\n",
    "    global stream\n",
    "    if stream is None:\n",
    "        log('connecting to stream')\n",
    "        ioloop.IOLoop.current().call_later(0, start)"
   ]
  },
  {
   "cell_type": "markdown",
   "metadata": {
    "urth": {
     "dashboard": {
      "hidden": true,
      "layout": {}
     }
    }
   },
   "source": [
    "Create a periodic callback that checks for long-poll liveliness. Schedule it to run the check every 10 seconds so that we don't stay disconnected for too long."
   ]
  },
  {
   "cell_type": "code",
   "execution_count": null,
   "metadata": {
    "collapsed": false,
    "urth": {
     "dashboard": {
      "hidden": true,
      "layout": {}
     }
    }
   },
   "outputs": [],
   "source": [
    "try:\n",
    "    heartbeat.stop()\n",
    "except NameError:\n",
    "    pass\n",
    "heartbeat = ioloop.PeriodicCallback(check_health, HEALTH_CHECK_INTERVAL_MS)"
   ]
  },
  {
   "cell_type": "code",
   "execution_count": null,
   "metadata": {
    "collapsed": false,
    "urth": {
     "dashboard": {
      "hidden": true,
      "layout": {}
     }
    }
   },
   "outputs": [],
   "source": [
    "heartbeat.start()\n",
    "check_health()"
   ]
  },
  {
   "cell_type": "markdown",
   "metadata": {
    "urth": {
     "dashboard": {
      "hidden": true,
      "layout": {}
     }
    }
   },
   "source": [
    "### Monitoring\n",
    "\n",
    "Shows recent messages and current VM assignment status."
   ]
  },
  {
   "cell_type": "code",
   "execution_count": null,
   "metadata": {
    "collapsed": false,
    "scrolled": true,
    "urth": {
     "dashboard": {
      "layout": {}
     }
    }
   },
   "outputs": [],
   "source": [
    "%%html\n",
    "<template is=\"urth-core-bind\" channel=\"log\">\n",
    "    <table>\n",
    "        <caption>Recent messages</caption>\n",
    "        <thead>\n",
    "            <tr>\n",
    "                <th></th>\n",
    "                <th>Local time</th>\n",
    "                <th>Message</th>\n",
    "            </tr>\n",
    "        </thead>\n",
    "        <tbody>\n",
    "        <template is=\"dom-repeat\" items=\"[[recent]]\">\n",
    "            <tr>\n",
    "                <td>[[index]]</td>\n",
    "                <td>[[item.0]]</td>\n",
    "                <td>[[item.1]]</td>\n",
    "            </tr>\n",
    "        </template>\n",
    "        </tbody>\n",
    "</template>"
   ]
  },
  {
   "cell_type": "code",
   "execution_count": null,
   "metadata": {
    "collapsed": false,
    "urth": {
     "dashboard": {
      "layout": {}
     }
    }
   },
   "outputs": [],
   "source": [
    "%%html\n",
    "<template is=\"urth-core-bind\" channel=\"vms\">\n",
    "    <table>\n",
    "        <caption>VM assignments</caption>\n",
    "        <thead>\n",
    "            <tr>\n",
    "                <th></th>\n",
    "                <th>Host</th>\n",
    "                <th>Owner</th>\n",
    "            </tr>\n",
    "        </thead>\n",
    "        <tbody>\n",
    "        <template is=\"dom-repeat\" items=\"[[status]]\">\n",
    "            <tr>\n",
    "                <td>[[index]]</td>\n",
    "                <td>[[item.0]]</td>\n",
    "                <td>[[item.1]]</td>\n",
    "            </tr>\n",
    "        </template>\n",
    "        </tbody>\n",
    "</template>"
   ]
  }
 ],
 "metadata": {
  "kernelspec": {
   "display_name": "Python 3",
   "language": "python",
   "name": "python3"
  },
  "language_info": {
   "codemirror_mode": {
    "name": "ipython",
    "version": 3
   },
   "file_extension": ".py",
   "mimetype": "text/x-python",
   "name": "python",
   "nbconvert_exporter": "python",
   "pygments_lexer": "ipython3",
   "version": "3.5.1"
  },
  "urth": {
   "dashboard": {
    "layout": "report"
   }
  },
  "widgets": {
   "state": {
    "DBAB8E6663F74A688FE692DA8EFD1475": {
     "views": []
    }
   },
   "version": "1.1.2"
  }
 },
 "nbformat": 4,
 "nbformat_minor": 0
}
